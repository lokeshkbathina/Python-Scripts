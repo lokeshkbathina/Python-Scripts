{
 "cells": [
  {
   "cell_type": "markdown",
   "metadata": {},
   "source": [
    "# Daily Filtering"
   ]
  },
  {
   "cell_type": "markdown",
   "metadata": {},
   "source": [
    "After 5.30pm"
   ]
  },
  {
   "cell_type": "code",
   "execution_count": 173,
   "metadata": {},
   "outputs": [],
   "source": [
    "from nselib import capital_market\n",
    "import concurrent.futures\n",
    "from tqdm import tqdm\n",
    "import warnings\n",
    "import numpy as np\n",
    "import pandas as pd\n",
    "from datetime import datetime\n",
    "import re\n",
    "from nse import nse_self\n",
    "nse = nse_self()\n",
    "warnings.filterwarnings(\"ignore\")"
   ]
  },
  {
   "cell_type": "code",
   "execution_count": 174,
   "metadata": {},
   "outputs": [],
   "source": [
    "today = '22-08-2025'"
   ]
  },
  {
   "cell_type": "code",
   "execution_count": 175,
   "metadata": {},
   "outputs": [],
   "source": [
    "today_stocks_info = nse.get_nse_equities_by_date(today)\n",
    "stocks = today_stocks_info[today_stocks_info['SERIES'] == 'EQ']['SYMBOL'].tolist()"
   ]
  },
  {
   "cell_type": "code",
   "execution_count": 176,
   "metadata": {},
   "outputs": [
    {
     "data": {
      "text/html": [
       "<div>\n",
       "<style scoped>\n",
       "    .dataframe tbody tr th:only-of-type {\n",
       "        vertical-align: middle;\n",
       "    }\n",
       "\n",
       "    .dataframe tbody tr th {\n",
       "        vertical-align: top;\n",
       "    }\n",
       "\n",
       "    .dataframe thead th {\n",
       "        text-align: right;\n",
       "    }\n",
       "</style>\n",
       "<table border=\"1\" class=\"dataframe\">\n",
       "  <thead>\n",
       "    <tr style=\"text-align: right;\">\n",
       "      <th></th>\n",
       "      <th>SYMBOL</th>\n",
       "      <th>O</th>\n",
       "      <th>H</th>\n",
       "      <th>L</th>\n",
       "      <th>C</th>\n",
       "      <th>Volume</th>\n",
       "    </tr>\n",
       "  </thead>\n",
       "  <tbody>\n",
       "    <tr>\n",
       "      <th>447</th>\n",
       "      <td>BODALCHEM</td>\n",
       "      <td>67.78</td>\n",
       "      <td>68.09</td>\n",
       "      <td>66.6</td>\n",
       "      <td>66.76</td>\n",
       "      <td>312283</td>\n",
       "    </tr>\n",
       "  </tbody>\n",
       "</table>\n",
       "</div>"
      ],
      "text/plain": [
       "        SYMBOL      O      H     L      C  Volume\n",
       "447  BODALCHEM  67.78  68.09  66.6  66.76  312283"
      ]
     },
     "execution_count": 176,
     "metadata": {},
     "output_type": "execute_result"
    }
   ],
   "source": [
    "today_stocks_info.loc[\n",
    "    today_stocks_info['SYMBOL'] == 'BODALCHEM', ['SYMBOL', 'OPEN_PRICE', 'HIGH_PRICE', 'LOW_PRICE', 'CLOSE_PRICE','TTL_TRD_QNTY']\n",
    "    ].rename(columns={\n",
    "        'OPEN_PRICE': 'O',\n",
    "        'HIGH_PRICE':'H',\n",
    "        'LOW_PRICE': 'L',\n",
    "        'CLOSE_PRICE': 'C',\n",
    "        'TTL_TRD_QNTY': 'Volume'\n",
    "    })"
   ]
  },
  {
   "cell_type": "code",
   "execution_count": 177,
   "metadata": {},
   "outputs": [
    {
     "data": {
      "text/html": [
       "<div>\n",
       "<style scoped>\n",
       "    .dataframe tbody tr th:only-of-type {\n",
       "        vertical-align: middle;\n",
       "    }\n",
       "\n",
       "    .dataframe tbody tr th {\n",
       "        vertical-align: top;\n",
       "    }\n",
       "\n",
       "    .dataframe thead th {\n",
       "        text-align: right;\n",
       "    }\n",
       "</style>\n",
       "<table border=\"1\" class=\"dataframe\">\n",
       "  <thead>\n",
       "    <tr style=\"text-align: right;\">\n",
       "      <th></th>\n",
       "      <th>Symbol</th>\n",
       "      <th>Series</th>\n",
       "      <th>Date</th>\n",
       "      <th>PrevClose</th>\n",
       "      <th>OpenPrice</th>\n",
       "      <th>HighPrice</th>\n",
       "      <th>LowPrice</th>\n",
       "      <th>LastPrice</th>\n",
       "      <th>ClosePrice</th>\n",
       "      <th>AveragePrice</th>\n",
       "      <th>TotalTradedQuantity</th>\n",
       "      <th>TurnoverInRs</th>\n",
       "      <th>No.ofTrades</th>\n",
       "      <th>DeliverableQty</th>\n",
       "      <th>%DlyQttoTradedQty</th>\n",
       "      <th>ï»¿\"Symbol\"</th>\n",
       "    </tr>\n",
       "  </thead>\n",
       "  <tbody>\n",
       "    <tr>\n",
       "      <th>0</th>\n",
       "      <td>NaN</td>\n",
       "      <td>EQ</td>\n",
       "      <td>18-Aug-2025</td>\n",
       "      <td>65.85</td>\n",
       "      <td>66.90</td>\n",
       "      <td>68.22</td>\n",
       "      <td>66.04</td>\n",
       "      <td>67.00</td>\n",
       "      <td>67.31</td>\n",
       "      <td>67.24</td>\n",
       "      <td>421176</td>\n",
       "      <td>28321914.98</td>\n",
       "      <td>4426</td>\n",
       "      <td>228414</td>\n",
       "      <td>54.23</td>\n",
       "      <td>BODALCHEM</td>\n",
       "    </tr>\n",
       "    <tr>\n",
       "      <th>1</th>\n",
       "      <td>NaN</td>\n",
       "      <td>EQ</td>\n",
       "      <td>19-Aug-2025</td>\n",
       "      <td>67.31</td>\n",
       "      <td>67.69</td>\n",
       "      <td>68.52</td>\n",
       "      <td>67.17</td>\n",
       "      <td>68.25</td>\n",
       "      <td>68.09</td>\n",
       "      <td>68.02</td>\n",
       "      <td>228489</td>\n",
       "      <td>15542167.64</td>\n",
       "      <td>2090</td>\n",
       "      <td>115966</td>\n",
       "      <td>50.75</td>\n",
       "      <td>BODALCHEM</td>\n",
       "    </tr>\n",
       "    <tr>\n",
       "      <th>2</th>\n",
       "      <td>NaN</td>\n",
       "      <td>EQ</td>\n",
       "      <td>20-Aug-2025</td>\n",
       "      <td>68.09</td>\n",
       "      <td>68.20</td>\n",
       "      <td>69.20</td>\n",
       "      <td>67.52</td>\n",
       "      <td>68.36</td>\n",
       "      <td>68.49</td>\n",
       "      <td>68.54</td>\n",
       "      <td>292704</td>\n",
       "      <td>20062703.76</td>\n",
       "      <td>2917</td>\n",
       "      <td>143022</td>\n",
       "      <td>48.86</td>\n",
       "      <td>BODALCHEM</td>\n",
       "    </tr>\n",
       "    <tr>\n",
       "      <th>3</th>\n",
       "      <td>NaN</td>\n",
       "      <td>EQ</td>\n",
       "      <td>21-Aug-2025</td>\n",
       "      <td>68.49</td>\n",
       "      <td>68.06</td>\n",
       "      <td>68.80</td>\n",
       "      <td>67.20</td>\n",
       "      <td>67.63</td>\n",
       "      <td>67.47</td>\n",
       "      <td>67.98</td>\n",
       "      <td>154825</td>\n",
       "      <td>10524502.55</td>\n",
       "      <td>1280</td>\n",
       "      <td>101440</td>\n",
       "      <td>65.52</td>\n",
       "      <td>BODALCHEM</td>\n",
       "    </tr>\n",
       "    <tr>\n",
       "      <th>4</th>\n",
       "      <td>NaN</td>\n",
       "      <td>EQ</td>\n",
       "      <td>22-Aug-2025</td>\n",
       "      <td>67.47</td>\n",
       "      <td>67.78</td>\n",
       "      <td>68.09</td>\n",
       "      <td>66.60</td>\n",
       "      <td>66.90</td>\n",
       "      <td>66.76</td>\n",
       "      <td>67.24</td>\n",
       "      <td>312283</td>\n",
       "      <td>20997412.05</td>\n",
       "      <td>3100</td>\n",
       "      <td>166474</td>\n",
       "      <td>53.31</td>\n",
       "      <td>BODALCHEM</td>\n",
       "    </tr>\n",
       "  </tbody>\n",
       "</table>\n",
       "</div>"
      ],
      "text/plain": [
       "  Symbol Series         Date  PrevClose  OpenPrice  HighPrice  LowPrice  \\\n",
       "0    NaN     EQ  18-Aug-2025      65.85      66.90      68.22     66.04   \n",
       "1    NaN     EQ  19-Aug-2025      67.31      67.69      68.52     67.17   \n",
       "2    NaN     EQ  20-Aug-2025      68.09      68.20      69.20     67.52   \n",
       "3    NaN     EQ  21-Aug-2025      68.49      68.06      68.80     67.20   \n",
       "4    NaN     EQ  22-Aug-2025      67.47      67.78      68.09     66.60   \n",
       "\n",
       "   LastPrice  ClosePrice  AveragePrice  TotalTradedQuantity  TurnoverInRs  \\\n",
       "0      67.00       67.31         67.24               421176   28321914.98   \n",
       "1      68.25       68.09         68.02               228489   15542167.64   \n",
       "2      68.36       68.49         68.54               292704   20062703.76   \n",
       "3      67.63       67.47         67.98               154825   10524502.55   \n",
       "4      66.90       66.76         67.24               312283   20997412.05   \n",
       "\n",
       "   No.ofTrades  DeliverableQty  %DlyQttoTradedQty ï»¿\"Symbol\"  \n",
       "0         4426          228414              54.23   BODALCHEM  \n",
       "1         2090          115966              50.75   BODALCHEM  \n",
       "2         2917          143022              48.86   BODALCHEM  \n",
       "3         1280          101440              65.52   BODALCHEM  \n",
       "4         3100          166474              53.31   BODALCHEM  "
      ]
     },
     "execution_count": 177,
     "metadata": {},
     "output_type": "execute_result"
    }
   ],
   "source": [
    "nse.get_nse_stock_by_duration('BODALCHEM', '1W')"
   ]
  },
  {
   "cell_type": "markdown",
   "metadata": {},
   "source": [
    "# level 1 - MA 200 & Vol 2.25x"
   ]
  },
  {
   "cell_type": "code",
   "execution_count": 178,
   "metadata": {},
   "outputs": [
    {
     "name": "stdout",
     "output_type": "stream",
     "text": [
      "Total no. of stocks: 2099\n",
      "\n"
     ]
    },
    {
     "name": "stderr",
     "output_type": "stream",
     "text": [
      "Flitering: 100%|██████████| 2099/2099 [10:13<00:00,  3.42it/s]"
     ]
    },
    {
     "name": "stdout",
     "output_type": "stream",
     "text": [
      "Filtered stocks: 43\n"
     ]
    },
    {
     "name": "stderr",
     "output_type": "stream",
     "text": [
      "\n"
     ]
    }
   ],
   "source": [
    "filtered_stocks_1 = []\n",
    "\n",
    "def process_stock(stock):\n",
    "    try:\n",
    "        data = nse.get_nse_stock_by_duration(symbol=stock, period='1Y')\n",
    "    except:\n",
    "        # skipping; stock with trades less than 1000 TDs\n",
    "        return None\n",
    "\n",
    "\n",
    "    # -- MA 200 -- \n",
    "    MA = 200\n",
    "    close_series = data[::-1]['ClosePrice'][:MA]\n",
    "    if close_series.empty or len(close_series.dropna()) == 0:\n",
    "        return None \n",
    "    \n",
    "    close = close_series.replace({',': ''}, regex=True).astype(float)\n",
    "    if len(close) < MA:\n",
    "        return None\n",
    "\n",
    "    closePrice = close.iloc[0]\n",
    "    MA_200 = close.mean()\n",
    "\n",
    "    # TODO: considering adding some buffer\n",
    "    if closePrice < MA_200:\n",
    "        # NOTE: skipping; stock has been listed for less than 200 days\n",
    "        return None\n",
    "\n",
    "\n",
    "    # -- Volume > 2.25x 10D Avg --\n",
    "    try:\n",
    "        volume_data = capital_market.deliverable_position_data(stock, period='1M')['TradedQty']\n",
    "        volume = volume_data[::-1].str.replace(',', '', regex=False).astype(int)\n",
    "    except:\n",
    "        return None\n",
    "\n",
    "    current_vol = volume.iloc[0]\n",
    "    # volume needs to above 100k\n",
    "    if current_vol > 100_000:\n",
    "        last_10_days_avg = volume.iloc[1:11].mean()\n",
    "        if current_vol > last_10_days_avg * 2.25:\n",
    "            return stock\n",
    "\n",
    "    return None\n",
    "\n",
    "print(f'Total no. of stocks: {len(stocks)}')\n",
    "print()\n",
    "\n",
    "with concurrent.futures.ThreadPoolExecutor(max_workers=11) as executor:\n",
    "    futures = [executor.submit(process_stock, stock) for stock in stocks]\n",
    "    for f in tqdm(concurrent.futures.as_completed(futures), total=len(futures), desc='Flitering'):\n",
    "        result = f.result()\n",
    "        if result:\n",
    "            filtered_stocks_1.append(result)\n",
    "\n",
    "print(f'Filtered stocks: {len(filtered_stocks_1)}')"
   ]
  },
  {
   "cell_type": "markdown",
   "metadata": {},
   "source": [
    "# level 2 - excluding ETFs"
   ]
  },
  {
   "cell_type": "code",
   "execution_count": 179,
   "metadata": {},
   "outputs": [
    {
     "name": "stdout",
     "output_type": "stream",
     "text": [
      "Excluded stocks: ['BANKIETF', 'BSE500IETF', 'HDFCNIFTY', 'LTGILTBEES']\n"
     ]
    },
    {
     "data": {
      "text/plain": [
       "39"
      ]
     },
     "execution_count": 179,
     "metadata": {},
     "output_type": "execute_result"
    }
   ],
   "source": [
    "exclusions = [\"ETF\", \"GOLD\", \"SILVER\", \"BEES\", \"NIFTY\", 'MAFANG', 'MAHKTECH']\n",
    "excluded_stocks = []\n",
    "filtered_stocks_2 = []\n",
    "\n",
    "for stk in filtered_stocks_1:\n",
    "    if any(excl in stk for excl in exclusions):\n",
    "        excluded_stocks.append(stk)\n",
    "    else:\n",
    "        filtered_stocks_2.append(stk)\n",
    "\n",
    "print(f\"Excluded stocks: {excluded_stocks}\")\n",
    "len(filtered_stocks_2)"
   ]
  },
  {
   "cell_type": "markdown",
   "metadata": {},
   "source": [
    "# level 3 - higher opens & higher closes"
   ]
  },
  {
   "cell_type": "code",
   "execution_count": 180,
   "metadata": {},
   "outputs": [
    {
     "name": "stderr",
     "output_type": "stream",
     "text": [
      "Price Check: 100%|██████████| 39/39 [00:02<00:00, 17.60it/s]"
     ]
    },
    {
     "name": "stdout",
     "output_type": "stream",
     "text": [
      "Filtered stocks: 19\n",
      "['AIROLAM', 'APOLLO', 'AVANTEL', 'BALKRISHNA', 'BOMDYEING', 'FEDFINA', 'GOCLCORP', 'GPIL', 'GUJAPOLLO', 'HERANBA', 'HUBTOWN', 'IZMO', 'KOLTEPATIL', 'LEMONTREE', 'LOTUSEYE', 'OBCL', 'ROHLTD', 'SILGO', 'TOUCHWOOD']\n"
     ]
    },
    {
     "name": "stderr",
     "output_type": "stream",
     "text": [
      "\n"
     ]
    }
   ],
   "source": [
    "filtered_stocks_3 = []\n",
    "\n",
    "def check_price_movement(stock):\n",
    "    try:\n",
    "        # get lastest 7 days of data\n",
    "        data = nse.get_nse_stock_by_duration(symbol=stock, period='1W')\n",
    "        # latest\n",
    "        data = data[::-1]  \n",
    "        close_prices = data['ClosePrice'].replace({',': ''}, regex=True).astype(float)\n",
    "        open_prices = data['OpenPrice'].replace({',': ''}, regex=True).astype(float)\n",
    "\n",
    "        if len(close_prices) >= 2 and len(open_prices) >= 1:\n",
    "            today_close = close_prices.iloc[0]\n",
    "            prev_close = close_prices.iloc[1]\n",
    "            today_open = open_prices.iloc[0]\n",
    "            prev_open = open_prices.iloc[1]\n",
    "\n",
    "            # Condition: today's close > previous close AND today's close > open\n",
    "            if today_close > prev_close and today_close > today_open and today_open > prev_open:\n",
    "                if stock == 'BODALCHEM':\n",
    "                    print(today_close)\n",
    "                    print(prev_close)\n",
    "                return stock\n",
    "    except Exception as e:\n",
    "        return None\n",
    "    return None\n",
    "\n",
    "\n",
    "with concurrent.futures.ThreadPoolExecutor(max_workers=8) as executor:\n",
    "    futures = [executor.submit(check_price_movement, stock) for stock in filtered_stocks_2]\n",
    "    for f in tqdm(concurrent.futures.as_completed(futures), total=len(futures), desc='Price Check'):\n",
    "        result = f.result()\n",
    "        if result:\n",
    "            filtered_stocks_3.append(result)\n",
    "\n",
    "# sorting alphabetically\n",
    "filtered_stocks_3.sort()\n",
    "print(f\"Filtered stocks: {len(filtered_stocks_3)}\")\n",
    "print(filtered_stocks_3)"
   ]
  },
  {
   "cell_type": "markdown",
   "metadata": {},
   "source": [
    "# level 4 - previous 10 days's daily vol > 100k"
   ]
  },
  {
   "cell_type": "code",
   "execution_count": 181,
   "metadata": {},
   "outputs": [
    {
     "name": "stderr",
     "output_type": "stream",
     "text": [
      "Volume Consistency: 100%|██████████| 19/19 [00:01<00:00, 12.85it/s]"
     ]
    },
    {
     "name": "stdout",
     "output_type": "stream",
     "text": [
      "Filtered Stocks_4: 7\n",
      "['APOLLO', 'AVANTEL', 'BOMDYEING', 'FEDFINA', 'GPIL', 'HUBTOWN', 'LEMONTREE']\n"
     ]
    },
    {
     "name": "stderr",
     "output_type": "stream",
     "text": [
      "\n"
     ]
    }
   ],
   "source": [
    "filtered_stocks_4 = []\n",
    "\n",
    "def check_volume_consistency(stock):\n",
    "    try:\n",
    "        # Get last 15 days of data (to ensure we have at least 10 trading days)\n",
    "        volume_data = nse.get_nse_stock_by_duration(symbol=stock, period='1M')['TotalTradedQuantity']\n",
    "        volume = volume_data[::-1]\n",
    "\n",
    "        # Take last 10 trading days\n",
    "        last_10_vols = volume.iloc[:10]\n",
    "\n",
    "        # Check if all volumes > 100k\n",
    "        if len(last_10_vols) < 10:\n",
    "            return None\n",
    "\n",
    "        if all(v > 100_000 for v in last_10_vols):\n",
    "            return stock\n",
    "    except:\n",
    "        return None\n",
    "    return None\n",
    "\n",
    "\n",
    "with concurrent.futures.ThreadPoolExecutor(max_workers=8) as executor:\n",
    "    finals = [executor.submit(check_volume_consistency, stock) for stock in filtered_stocks_3]\n",
    "    for f in tqdm(concurrent.futures.as_completed(finals), total=len(finals), desc='Volume Consistency'):\n",
    "        result = f.result()\n",
    "        if result:\n",
    "            filtered_stocks_4.append(result)\n",
    "\n",
    "# Sort alphabetically\n",
    "filtered_stocks_4.sort()\n",
    "print(f\"Filtered Stocks_4: {len(filtered_stocks_4)}\")\n",
    "print(filtered_stocks_4)"
   ]
  },
  {
   "cell_type": "markdown",
   "metadata": {},
   "source": [
    "# final"
   ]
  },
  {
   "cell_type": "code",
   "execution_count": 182,
   "metadata": {},
   "outputs": [
    {
     "data": {
      "text/plain": [
       "array(['APOLLO', 'AVANTEL', 'BOMDYEING', 'FEDFINA', 'GPIL', 'HUBTOWN',\n",
       "       'LEMONTREE'], dtype='<U9')"
      ]
     },
     "execution_count": 182,
     "metadata": {},
     "output_type": "execute_result"
    }
   ],
   "source": [
    "filtered_stocks_4.sort()\n",
    "np.array(filtered_stocks_4)"
   ]
  },
  {
   "cell_type": "markdown",
   "metadata": {},
   "source": [
    "# prompt & pat bateman score"
   ]
  },
  {
   "cell_type": "code",
   "execution_count": 183,
   "metadata": {},
   "outputs": [],
   "source": [
    "def generate_prompt(stk_symbol, today_stocks_info):\n",
    "    \n",
    "    ohlc = today_stocks_info.loc[today_stocks_info['SYMBOL'] == stk_symbol,\n",
    "                                ['SYMBOL', 'OPEN_PRICE', 'HIGH_PRICE', 'LOW_PRICE', 'CLOSE_PRICE']\n",
    "    ].values.tolist()[0][1:]\n",
    "\n",
    "    hist_data = nse.get_nse_stock_by_duration(symbol=stk_symbol, period='1Y')[::-1]\n",
    "    closes = hist_data['ClosePrice'].replace({',': ''}, regex=True).astype(float)\n",
    "    highs = hist_data['HighPrice'].replace({',': ''}, regex=True).astype(float)\n",
    "\n",
    "    ma20 = closes.iloc[:20].mean()\n",
    "    ma50 = closes.iloc[:50].mean()\n",
    "    ma200 = closes.iloc[:200].mean()\n",
    "    today_close = closes.iloc[0]\n",
    "    ma20_gap = round(((today_close - ma20) / ma20) * 100, 2)\n",
    "    ma50_gap = round(((today_close - ma50) / ma50) * 100, 2)\n",
    "    ma200_gap = round(((today_close - ma200) / ma200) * 100, 2)\n",
    "\n",
    "    yesterday_close = closes.iloc[1]\n",
    "    today_close = closes.iloc[0]\n",
    "    change_pct = ((today_close - yesterday_close) / yesterday_close) * 100\n",
    "\n",
    "    # TODO: handle stock splits\n",
    "    high_52 = highs.max()\n",
    "    high_gap = round(((high_52 - today_close) / high_52) * 100, 2)\n",
    "\n",
    "    # TODO: candle height? upper tick!\n",
    "    prompt = f\"\"\"\n",
    "        I'm evaluating **NSE:{stk_symbol}** for a potential **swing buy position**.  \n",
    "        Please assess this setup based on my strategy context and your expert technical insights.\n",
    "        Kindly provide a **combined score (1 to 10)** reflecting your preference for a buy at this point also considering the below details.\n",
    "        \n",
    "\n",
    "        Stock Details:  \n",
    "        - Market closed today's 1D chart with:  \n",
    "        **Open**: {ohlc[0]} | **High**: {ohlc[1]} | **Low**: {ohlc[2]} | **Close**: {ohlc[3]} | **Change**: {change_pct:+.2f}%\n",
    "        - **20 MA**: {ma20:.2f} (Gap: {ma20_gap:+.2f}%)  \n",
    "        - **50 MA**: {ma50:.2f} (Gap: {ma50_gap:+.2f}%)  \n",
    "        - **200 MA**: {ma200:.2f} (Gap: {ma200_gap:+.2f}%)  \n",
    "        - **RSI**: to_be_filled\n",
    "        - **MACD** to_be_filled Signal \n",
    "        - **ADX** to_be_filled\n",
    "        - 52-week High: {high_52:.2f} | Gap: {high_gap:+.2f}%\n",
    "        - Volume is **2.25x or more** above the average of the last 10 trading days.\n",
    "        - Both **today's** and **yesterday's** candles show **higher opens and higher closes**.\n",
    "\n",
    "\n",
    "        Additional IMP Info (Please fill):\n",
    "        - Earnings in (days):\n",
    "        - If already declared then earnings Recap (Date, Miss/Meet/Beat, Guidance sentiment - Strong/Neutral/Weak): \n",
    "        - Sector outlook:  \n",
    "        - Sector strength: Good / Bad  \n",
    "        - News related to this stock: Good/Bad, any global news (like tariff) and check for any \n",
    "          sector-specific news or analyst upgrades/downgrades that might influence sector or stock movements\n",
    "        - Institutional investor interest:  \n",
    "        - Analysts' research:  \n",
    "\n",
    "        ---\n",
    "\n",
    "        📍 **Ideal Entry Zone** (Now or wait):  \n",
    "        🎯 **Final Verdict (Score out of 10)**:  \n",
    "        \"\"\"\n",
    "    \n",
    "    pat_bateman = f\"pat_bateman_score(fin, shareholding, research, {ma50_gap:+.2f}, {ma20_gap:+.2f}, {high_gap:+.2f}, rsi, (macd, signal), adx, news)\"\n",
    "\n",
    "    return prompt, pat_bateman\n",
    "    "
   ]
  },
  {
   "cell_type": "markdown",
   "metadata": {},
   "source": [
    "TODO: RSI & MACD"
   ]
  },
  {
   "cell_type": "code",
   "execution_count": 184,
   "metadata": {},
   "outputs": [],
   "source": [
    "def pat_bateman_score(\n",
    "        financials_score, shareholding_score, analyst_rating_score,  # 0 to 1\n",
    "        price_vs_50ma_pct, price_vs_20ma_pct,                        # gap percentages\n",
    "        gap_52wk_H, rsi, macd, adx, news_positive                    # gap percentage, \n",
    "):\n",
    "    \n",
    "    # weightage (make sure all sum up to 10)\n",
    "    weights = {\n",
    "        'financials':      1.075,           \n",
    "        'shareholding':    1.05,\n",
    "        'analyst':         1.05,             # 3.2\n",
    "\n",
    "        '50ma':            1.05,\n",
    "        '20ma':            1.05,            # 2.1\n",
    "\n",
    "        '52wk_high':       0.875,\n",
    "        'rsi':             0.975,\n",
    "        'macd':            0.975,\n",
    "        'adx':             0.8,\n",
    "        'news':            1.1              # 4.7\n",
    "    }\n",
    "\n",
    "    def norm_50ma(pct):\n",
    "        # full score if within 5-12%; linearly drop outside\n",
    "        if 5 <= pct <= 12:\n",
    "            return 1.0\n",
    "        # outside range: decrease linearly to 0 at 0% or 20%\n",
    "        if pct < 5:\n",
    "            return max(0.0, pct / 5)\n",
    "        return max(0.0, (20 - pct) / 8)\n",
    "\n",
    "    def norm_20ma(pct):\n",
    "        if 2 <= pct <= 6:\n",
    "            return 1.0\n",
    "        if pct < 2:\n",
    "            return max(0.0, pct / 2)\n",
    "        return max(0.0, (15 - pct) / 9)\n",
    "\n",
    "    def norm_52wk(pct):\n",
    "        if 8 <= pct <= 30:\n",
    "            return 0.9\n",
    "        if 0 <= pct < 8: # TODO: add offset of 0.35 because sometimes at 52 week high breakout may happen\n",
    "            return min(0.9, pct / 8 + 0.35)\n",
    "        if 30 < pct <= 60:\n",
    "            return (60 - pct) / 30\n",
    "        return 0.0\n",
    "\n",
    "    def norm_range(value, low, high):\n",
    "        # perfect score if within [low, high]\n",
    "        if low <= value <= high:\n",
    "            return 1.0\n",
    "        # outside: linear drop to 0 at bounds*2\n",
    "        if value < low:\n",
    "            return max(0.0, value / low)\n",
    "        return max(0.0, (high*2 - value) / high)\n",
    "    \n",
    "    # TODO: test cases \n",
    "    def norm_macd(macd, signal, ideal_stretch_pct=2.0, max_stretch_pct=5.0, neg_stretch_pct=1.25):\n",
    "        diff = macd - signal\n",
    "        stretch_pct = (diff / abs(signal)) * 100  # percentage difference\n",
    "\n",
    "        if macd > 0 and signal > 0:\n",
    "            zone = 'bullish'\n",
    "        elif macd < 0 and signal < 0:\n",
    "            zone = 'bearish'\n",
    "        else:\n",
    "            zone = 'crossover'\n",
    "\n",
    "        if zone == 'crossover' and abs(stretch_pct) > max_stretch_pct:\n",
    "            return 0.0\n",
    "\n",
    "        if zone == \"bullish\":\n",
    "            # MACD >= Signal\n",
    "            if diff >= 0: \n",
    "                if stretch_pct <= ideal_stretch_pct:\n",
    "                    return 1.0\n",
    "                elif stretch_pct < max_stretch_pct:\n",
    "                    score = 1.0 - (stretch_pct - ideal_stretch_pct) / (max_stretch_pct - ideal_stretch_pct)\n",
    "                    return max(score, 0.5)\n",
    "                else:\n",
    "                    return 0.45  # stretched but still bullish\n",
    "            # MACD < Signal --> weakening\n",
    "            else:  \n",
    "                if -neg_stretch_pct < stretch_pct < 0:\n",
    "                    return 0.45 - ((abs(stretch_pct) / neg_stretch_pct) * (0.45 - 0.25))\n",
    "                else:\n",
    "                    return 0.23  # weak bullish\n",
    "                \n",
    "        if zone == \"bearish\":\n",
    "            if diff <= 0:  # MACD < Signal\n",
    "                if abs(stretch_pct) >= ideal_stretch_pct:\n",
    "                    return 0.15\n",
    "                elif abs(stretch_pct) < max_stretch_pct:\n",
    "                    return 0.1\n",
    "                else:\n",
    "                    return 0.0\n",
    "            else:  # MACD > Signal → weakening bearish\n",
    "                return 0.3  # slightly less bearish\n",
    "\n",
    "        # Crossover Zone\n",
    "        return 0.25  # neutral/indecisive\n",
    "\n",
    "\n",
    "    # Compute each normalized factor\n",
    "    scores = {}\n",
    "    # TODO: \n",
    "    scores['financials']   = financials_score*weights['financials']\n",
    "    scores['shareholding'] = shareholding_score*weights['shareholding']\n",
    "    scores['analyst']      = analyst_rating_score*weights['analyst']\n",
    "\n",
    "    scores['50ma']         = norm_50ma(price_vs_50ma_pct)\n",
    "    scores['20ma']         = norm_20ma(price_vs_20ma_pct)\n",
    "\n",
    "    scores['52wk_high']    = norm_52wk(gap_52wk_H)\n",
    "    scores['rsi']          = norm_range(rsi, 48, 66)\n",
    "    scores['macd']         = norm_macd(macd[0], macd[1])\n",
    "    scores['adx']          = norm_range(adx, 20, 60)\n",
    "    scores['news']         = news_positive*weights['news']\n",
    "\n",
    "    raw_score = sum(scores[k] * w for k, w in weights.items())\n",
    "\n",
    "    return round(raw_score, 2)"
   ]
  },
  {
   "cell_type": "markdown",
   "metadata": {},
   "source": [
    "# generating prompt & pat bateman score"
   ]
  },
  {
   "cell_type": "code",
   "execution_count": 191,
   "metadata": {},
   "outputs": [
    {
     "name": "stdout",
     "output_type": "stream",
     "text": [
      "LEMONTREE\n"
     ]
    }
   ],
   "source": [
    "stk_symbol = filtered_stocks_4[-1]\n",
    "print(stk_symbol)"
   ]
  },
  {
   "cell_type": "code",
   "execution_count": 192,
   "metadata": {},
   "outputs": [
    {
     "name": "stdout",
     "output_type": "stream",
     "text": [
      "\n",
      "        I'm evaluating **NSE:LEMONTREE** for a potential **swing buy position**.  \n",
      "        Please assess this setup based on my strategy context and your expert technical insights.\n",
      "        Kindly provide a **combined score (1 to 10)** reflecting your preference for a buy at this point also considering the below details.\n",
      "        \n",
      "\n",
      "        Stock Details:  \n",
      "        - Market closed today's 1D chart with:  \n",
      "        **Open**: 167.0 | **High**: 174.9 | **Low**: 166.0 | **Close**: 169.45 | **Change**: +1.87%\n",
      "        - **20 MA**: 149.83 (Gap: +13.10%)  \n",
      "        - **50 MA**: 146.69 (Gap: +15.51%)  \n",
      "        - **200 MA**: 139.45 (Gap: +21.51%)  \n",
      "        - **RSI**: to_be_filled\n",
      "        - **MACD** to_be_filled Signal \n",
      "        - **ADX** to_be_filled\n",
      "        - 52-week High: 174.90 | Gap: +3.12%\n",
      "        - Volume is **2.25x or more** above the average of the last 10 trading days.\n",
      "        - Both **today's** and **yesterday's** candles show **higher opens and higher closes**.\n",
      "\n",
      "\n",
      "        Additional IMP Info (Please fill):\n",
      "        - Earnings in (days):\n",
      "        - If already declared then earnings Recap (Date, Miss/Meet/Beat, Guidance sentiment - Strong/Neutral/Weak): \n",
      "        - Sector outlook:  \n",
      "        - Sector strength: Good / Bad  \n",
      "        - News related to this stock: Good/Bad, any global news (like tariff) and check for any \n",
      "          sector-specific news or analyst upgrades/downgrades that might influence sector or stock movements\n",
      "        - Institutional investor interest:  \n",
      "        - Analysts' research:  \n",
      "\n",
      "        ---\n",
      "\n",
      "        📍 **Ideal Entry Zone** (Now or wait):  \n",
      "        🎯 **Final Verdict (Score out of 10)**:  \n",
      "        \n"
     ]
    }
   ],
   "source": [
    "# stk_symbol = 'MOLDTKPAC'\n",
    "prompt, pat_bateman = generate_prompt(stk_symbol, today_stocks_info)\n",
    "print(prompt)"
   ]
  },
  {
   "cell_type": "code",
   "execution_count": 141,
   "metadata": {},
   "outputs": [
    {
     "data": {
      "text/plain": [
       "'pat_bateman_score(fin, shareholding, research, +26.90, +9.00, +1.11, rsi, (macd, signal), adx, news)'"
      ]
     },
     "execution_count": 141,
     "metadata": {},
     "output_type": "execute_result"
    }
   ],
   "source": [
    "pat_bateman"
   ]
  },
  {
   "cell_type": "markdown",
   "metadata": {},
   "source": [
    "if there is no analyts' rating then 0.6"
   ]
  },
  {
   "cell_type": "code",
   "execution_count": 142,
   "metadata": {},
   "outputs": [
    {
     "data": {
      "text/plain": [
       "6.6"
      ]
     },
     "execution_count": 142,
     "metadata": {},
     "output_type": "execute_result"
    }
   ],
   "source": [
    "pat_bateman_score(0.85, 0.85, 0.75, +26.90, +9.00, +1.11, 69.91, (42.04, 45.98), 36.11, 0.65)"
   ]
  },
  {
   "cell_type": "code",
   "execution_count": 636,
   "metadata": {},
   "outputs": [],
   "source": [
    "\n",
    "    # TODO: test cases \n",
    "    def norm_macd(macd, signal, ideal_stretch_pct=2.0, max_stretch_pct=5.0, neg_stretch_pct=1.25):\n",
    "        diff = macd - signal\n",
    "        stretch_pct = (diff / abs(signal)) * 100  # percentage difference\n",
    "\n",
    "        if macd > 0 and signal > 0:\n",
    "            zone = 'bullish'\n",
    "        elif macd < 0 and signal < 0:\n",
    "            zone = 'bearish'\n",
    "        else:\n",
    "            zone = 'crossover'\n",
    "\n",
    "        if zone == 'crossover' and abs(stretch_pct) > max_stretch_pct:\n",
    "            return 0.0\n",
    "\n",
    "        if zone == \"bullish\":\n",
    "            # MACD >= Signal\n",
    "            if diff >= 0: \n",
    "                if stretch_pct <= ideal_stretch_pct:\n",
    "                    return 1.0\n",
    "                elif stretch_pct < max_stretch_pct:\n",
    "                    score = 1.0 - (stretch_pct - ideal_stretch_pct) / (max_stretch_pct - ideal_stretch_pct)\n",
    "                    return max(score, 0.5)\n",
    "                else:\n",
    "                    return 0.45  # stretched but still bullish\n",
    "            # MACD < Signal --> weakening\n",
    "            else:  \n",
    "                if -neg_stretch_pct < stretch_pct < 0:\n",
    "                    return 0.45 - ((abs(stretch_pct) / neg_stretch_pct) * (0.45 - 0.25))\n",
    "                else:\n",
    "                    return 0.23  # weak bullish\n",
    "                \n",
    "        if zone == \"bearish\":\n",
    "            if diff <= 0:  # MACD < Signal\n",
    "                if abs(stretch_pct) >= ideal_stretch_pct:\n",
    "                    return 0.15\n",
    "                elif abs(stretch_pct) < max_stretch_pct:\n",
    "                    return 0.1\n",
    "                else:\n",
    "                    return 0.0\n",
    "            else:  # MACD > Signal → weakening bearish\n",
    "                return 0.3  # slightly less bearish\n",
    "\n",
    "        # Crossover Zone\n",
    "        return 0.25  # neutral/indecisive"
   ]
  },
  {
   "cell_type": "markdown",
   "metadata": {},
   "source": [
    "# WIP (to get 15-min)"
   ]
  },
  {
   "cell_type": "code",
   "execution_count": 590,
   "metadata": {},
   "outputs": [
    {
     "name": "stderr",
     "output_type": "stream",
     "text": [
      "DEBUG:yfinance:Entering history()\n",
      "DEBUG:peewee:('SELECT \"t1\".\"key\", \"t1\".\"value\" FROM \"_kv\" AS \"t1\" WHERE (\"t1\".\"key\" = ?) LIMIT ? OFFSET ?', ['SBIN.NS', 1, 0])\n",
      "DEBUG:yfinance: Entering history()\n",
      "DEBUG:yfinance:SBIN.NS: Yahoo GET parameters: {'range': '1d', 'interval': '15m', 'includePrePost': False, 'events': 'div,splits,capitalGains'}\n",
      "DEBUG:yfinance:  Entering get()\n",
      "DEBUG:yfinance:   Entering _make_request()\n",
      "DEBUG:yfinance:url=https://query2.finance.yahoo.com/v8/finance/chart/SBIN.NS\n",
      "DEBUG:yfinance:params={'range': '1d', 'interval': '15m', 'includePrePost': False, 'events': 'div,splits,capitalGains'}\n",
      "DEBUG:yfinance:    Entering _get_cookie_and_crumb()\n",
      "DEBUG:yfinance:cookie_mode = 'basic'\n",
      "DEBUG:yfinance:     Entering _get_cookie_and_crumb_basic()\n",
      "DEBUG:yfinance:reusing cookie\n",
      "DEBUG:yfinance:reusing crumb\n",
      "DEBUG:yfinance:     Exiting _get_cookie_and_crumb_basic()\n",
      "DEBUG:yfinance:    Exiting _get_cookie_and_crumb()\n",
      "DEBUG:yfinance:response code=429\n",
      "DEBUG:yfinance:toggling cookie strategy basic -> csrf\n",
      "DEBUG:yfinance:    Entering _get_cookie_and_crumb()\n",
      "DEBUG:yfinance:cookie_mode = 'csrf'\n",
      "DEBUG:yfinance:     Entering _get_crumb_csrf()\n",
      "DEBUG:peewee:('SELECT \"t1\".\"strategy\", \"t1\".\"fetch_date\", \"t1\".\"cookie_bytes\" FROM \"_cookieschema\" AS \"t1\" WHERE (\"t1\".\"strategy\" = ?) LIMIT ? OFFSET ?', ['csrf', 1, 0])\n",
      "DEBUG:yfinance:Failed to find \"csrfToken\" in response\n",
      "DEBUG:yfinance:     Exiting _get_crumb_csrf()\n",
      "DEBUG:yfinance:toggling cookie strategy csrf -> basic\n",
      "DEBUG:yfinance:     Entering _get_cookie_and_crumb_basic()\n",
      "DEBUG:peewee:('SELECT \"t1\".\"strategy\", \"t1\".\"fetch_date\", \"t1\".\"cookie_bytes\" FROM \"_cookieschema\" AS \"t1\" WHERE (\"t1\".\"strategy\" = ?) LIMIT ? OFFSET ?', ['basic', 1, 0])\n",
      "DEBUG:peewee:('DELETE FROM \"_cookieschema\" WHERE (\"_cookieschema\".\"strategy\" = ?)', ['basic'])\n",
      "DEBUG:peewee:('BEGIN', None)\n",
      "DEBUG:peewee:('INSERT INTO \"_cookieschema\" (\"strategy\", \"fetch_date\", \"cookie_bytes\") VALUES (?, ?, ?)', ['basic', '2025-07-30T01:33:51.712971', <memory at 0x142dc6ec0>])\n",
      "DEBUG:yfinance:fetched basic cookie = <Cookie A3=d=AQABBCcpiWgCELvDQnhgegUYNqafeowHHEYFEgEBAQF6imiTaFkMyyMA_eMCAA&S=AQAAAm7vJEJWt3ZOKqPo8NTNLrg for .yahoo.com/>\n",
      "DEBUG:yfinance:reusing cookie\n",
      "DEBUG:yfinance:crumb = 'Too Many Requests\n",
      "'\n",
      "DEBUG:yfinance:     Exiting _get_cookie_and_crumb_basic()\n",
      "DEBUG:yfinance:    Exiting _get_cookie_and_crumb()\n",
      "DEBUG:yfinance:response code=429\n"
     ]
    },
    {
     "ename": "YFRateLimitError",
     "evalue": "Too Many Requests. Rate limited. Try after a while.",
     "output_type": "error",
     "traceback": [
      "\u001b[0;31m---------------------------------------------------------------------------\u001b[0m",
      "\u001b[0;31mYFRateLimitError\u001b[0m                          Traceback (most recent call last)",
      "Cell \u001b[0;32mIn[590], line 4\u001b[0m\n\u001b[1;32m      1\u001b[0m \u001b[38;5;28;01mimport\u001b[39;00m \u001b[38;5;21;01myfinance\u001b[39;00m \u001b[38;5;28;01mas\u001b[39;00m \u001b[38;5;21;01myf\u001b[39;00m\n\u001b[1;32m      3\u001b[0m ticker \u001b[38;5;241m=\u001b[39m yf\u001b[38;5;241m.\u001b[39mTicker(\u001b[38;5;124m\"\u001b[39m\u001b[38;5;124mSBIN.NS\u001b[39m\u001b[38;5;124m\"\u001b[39m)\n\u001b[0;32m----> 4\u001b[0m data \u001b[38;5;241m=\u001b[39m \u001b[43mticker\u001b[49m\u001b[38;5;241;43m.\u001b[39;49m\u001b[43mhistory\u001b[49m\u001b[43m(\u001b[49m\u001b[43minterval\u001b[49m\u001b[38;5;241;43m=\u001b[39;49m\u001b[38;5;124;43m\"\u001b[39;49m\u001b[38;5;124;43m15m\u001b[39;49m\u001b[38;5;124;43m\"\u001b[39;49m\u001b[43m,\u001b[49m\u001b[43m \u001b[49m\u001b[43mperiod\u001b[49m\u001b[38;5;241;43m=\u001b[39;49m\u001b[38;5;124;43m\"\u001b[39;49m\u001b[38;5;124;43m1d\u001b[39;49m\u001b[38;5;124;43m\"\u001b[39;49m\u001b[43m)\u001b[49m\n\u001b[1;32m      5\u001b[0m \u001b[38;5;28mprint\u001b[39m(data[[\u001b[38;5;124m'\u001b[39m\u001b[38;5;124mOpen\u001b[39m\u001b[38;5;124m'\u001b[39m, \u001b[38;5;124m'\u001b[39m\u001b[38;5;124mHigh\u001b[39m\u001b[38;5;124m'\u001b[39m, \u001b[38;5;124m'\u001b[39m\u001b[38;5;124mLow\u001b[39m\u001b[38;5;124m'\u001b[39m, \u001b[38;5;124m'\u001b[39m\u001b[38;5;124mClose\u001b[39m\u001b[38;5;124m'\u001b[39m, \u001b[38;5;124m'\u001b[39m\u001b[38;5;124mVolume\u001b[39m\u001b[38;5;124m'\u001b[39m]])\n",
      "File \u001b[0;32m/Library/Frameworks/Python.framework/Versions/3.12/lib/python3.12/site-packages/yfinance/utils.py:103\u001b[0m, in \u001b[0;36mlog_indent_decorator.<locals>.wrapper\u001b[0;34m(*args, **kwargs)\u001b[0m\n\u001b[1;32m    100\u001b[0m logger\u001b[38;5;241m.\u001b[39mdebug(\u001b[38;5;124mf\u001b[39m\u001b[38;5;124m'\u001b[39m\u001b[38;5;124mEntering \u001b[39m\u001b[38;5;132;01m{\u001b[39;00mfunc\u001b[38;5;241m.\u001b[39m\u001b[38;5;18m__name__\u001b[39m\u001b[38;5;132;01m}\u001b[39;00m\u001b[38;5;124m()\u001b[39m\u001b[38;5;124m'\u001b[39m)\n\u001b[1;32m    102\u001b[0m \u001b[38;5;28;01mwith\u001b[39;00m IndentationContext():\n\u001b[0;32m--> 103\u001b[0m     result \u001b[38;5;241m=\u001b[39m \u001b[43mfunc\u001b[49m\u001b[43m(\u001b[49m\u001b[38;5;241;43m*\u001b[39;49m\u001b[43margs\u001b[49m\u001b[43m,\u001b[49m\u001b[43m \u001b[49m\u001b[38;5;241;43m*\u001b[39;49m\u001b[38;5;241;43m*\u001b[39;49m\u001b[43mkwargs\u001b[49m\u001b[43m)\u001b[49m\n\u001b[1;32m    105\u001b[0m logger\u001b[38;5;241m.\u001b[39mdebug(\u001b[38;5;124mf\u001b[39m\u001b[38;5;124m'\u001b[39m\u001b[38;5;124mExiting \u001b[39m\u001b[38;5;132;01m{\u001b[39;00mfunc\u001b[38;5;241m.\u001b[39m\u001b[38;5;18m__name__\u001b[39m\u001b[38;5;132;01m}\u001b[39;00m\u001b[38;5;124m()\u001b[39m\u001b[38;5;124m'\u001b[39m)\n\u001b[1;32m    106\u001b[0m \u001b[38;5;28;01mreturn\u001b[39;00m result\n",
      "File \u001b[0;32m/Library/Frameworks/Python.framework/Versions/3.12/lib/python3.12/site-packages/yfinance/base.py:91\u001b[0m, in \u001b[0;36mTickerBase.history\u001b[0;34m(self, *args, **kwargs)\u001b[0m\n\u001b[1;32m     89\u001b[0m \u001b[38;5;129m@utils\u001b[39m\u001b[38;5;241m.\u001b[39mlog_indent_decorator\n\u001b[1;32m     90\u001b[0m \u001b[38;5;28;01mdef\u001b[39;00m \u001b[38;5;21mhistory\u001b[39m(\u001b[38;5;28mself\u001b[39m, \u001b[38;5;241m*\u001b[39margs, \u001b[38;5;241m*\u001b[39m\u001b[38;5;241m*\u001b[39mkwargs) \u001b[38;5;241m-\u001b[39m\u001b[38;5;241m>\u001b[39m pd\u001b[38;5;241m.\u001b[39mDataFrame:\n\u001b[0;32m---> 91\u001b[0m     \u001b[38;5;28;01mreturn\u001b[39;00m \u001b[38;5;28;43mself\u001b[39;49m\u001b[38;5;241;43m.\u001b[39;49m\u001b[43m_lazy_load_price_history\u001b[49m\u001b[43m(\u001b[49m\u001b[43m)\u001b[49m\u001b[38;5;241;43m.\u001b[39;49m\u001b[43mhistory\u001b[49m\u001b[43m(\u001b[49m\u001b[38;5;241;43m*\u001b[39;49m\u001b[43margs\u001b[49m\u001b[43m,\u001b[49m\u001b[43m \u001b[49m\u001b[38;5;241;43m*\u001b[39;49m\u001b[38;5;241;43m*\u001b[39;49m\u001b[43mkwargs\u001b[49m\u001b[43m)\u001b[49m\n",
      "File \u001b[0;32m/Library/Frameworks/Python.framework/Versions/3.12/lib/python3.12/site-packages/yfinance/utils.py:103\u001b[0m, in \u001b[0;36mlog_indent_decorator.<locals>.wrapper\u001b[0;34m(*args, **kwargs)\u001b[0m\n\u001b[1;32m    100\u001b[0m logger\u001b[38;5;241m.\u001b[39mdebug(\u001b[38;5;124mf\u001b[39m\u001b[38;5;124m'\u001b[39m\u001b[38;5;124mEntering \u001b[39m\u001b[38;5;132;01m{\u001b[39;00mfunc\u001b[38;5;241m.\u001b[39m\u001b[38;5;18m__name__\u001b[39m\u001b[38;5;132;01m}\u001b[39;00m\u001b[38;5;124m()\u001b[39m\u001b[38;5;124m'\u001b[39m)\n\u001b[1;32m    102\u001b[0m \u001b[38;5;28;01mwith\u001b[39;00m IndentationContext():\n\u001b[0;32m--> 103\u001b[0m     result \u001b[38;5;241m=\u001b[39m \u001b[43mfunc\u001b[49m\u001b[43m(\u001b[49m\u001b[38;5;241;43m*\u001b[39;49m\u001b[43margs\u001b[49m\u001b[43m,\u001b[49m\u001b[43m \u001b[49m\u001b[38;5;241;43m*\u001b[39;49m\u001b[38;5;241;43m*\u001b[39;49m\u001b[43mkwargs\u001b[49m\u001b[43m)\u001b[49m\n\u001b[1;32m    105\u001b[0m logger\u001b[38;5;241m.\u001b[39mdebug(\u001b[38;5;124mf\u001b[39m\u001b[38;5;124m'\u001b[39m\u001b[38;5;124mExiting \u001b[39m\u001b[38;5;132;01m{\u001b[39;00mfunc\u001b[38;5;241m.\u001b[39m\u001b[38;5;18m__name__\u001b[39m\u001b[38;5;132;01m}\u001b[39;00m\u001b[38;5;124m()\u001b[39m\u001b[38;5;124m'\u001b[39m)\n\u001b[1;32m    106\u001b[0m \u001b[38;5;28;01mreturn\u001b[39;00m result\n",
      "File \u001b[0;32m/Library/Frameworks/Python.framework/Versions/3.12/lib/python3.12/site-packages/yfinance/scrapers/history.py:178\u001b[0m, in \u001b[0;36mPriceHistory.history\u001b[0;34m(self, period, interval, start, end, prepost, actions, auto_adjust, back_adjust, repair, keepna, proxy, rounding, timeout, raise_errors)\u001b[0m\n\u001b[1;32m    176\u001b[0m         get_fn \u001b[38;5;241m=\u001b[39m \u001b[38;5;28mself\u001b[39m\u001b[38;5;241m.\u001b[39m_data\u001b[38;5;241m.\u001b[39mcache_get\n\u001b[1;32m    177\u001b[0m \u001b[38;5;28;01mtry\u001b[39;00m:\n\u001b[0;32m--> 178\u001b[0m     data \u001b[38;5;241m=\u001b[39m \u001b[43mget_fn\u001b[49m\u001b[43m(\u001b[49m\n\u001b[1;32m    179\u001b[0m \u001b[43m        \u001b[49m\u001b[43murl\u001b[49m\u001b[38;5;241;43m=\u001b[39;49m\u001b[43murl\u001b[49m\u001b[43m,\u001b[49m\n\u001b[1;32m    180\u001b[0m \u001b[43m        \u001b[49m\u001b[43mparams\u001b[49m\u001b[38;5;241;43m=\u001b[39;49m\u001b[43mparams\u001b[49m\u001b[43m,\u001b[49m\n\u001b[1;32m    181\u001b[0m \u001b[43m        \u001b[49m\u001b[43mtimeout\u001b[49m\u001b[38;5;241;43m=\u001b[39;49m\u001b[43mtimeout\u001b[49m\n\u001b[1;32m    182\u001b[0m \u001b[43m    \u001b[49m\u001b[43m)\u001b[49m\n\u001b[1;32m    183\u001b[0m     \u001b[38;5;28;01mif\u001b[39;00m \u001b[38;5;124m\"\u001b[39m\u001b[38;5;124mWill be right back\u001b[39m\u001b[38;5;124m\"\u001b[39m \u001b[38;5;129;01min\u001b[39;00m data\u001b[38;5;241m.\u001b[39mtext \u001b[38;5;129;01mor\u001b[39;00m data \u001b[38;5;129;01mis\u001b[39;00m \u001b[38;5;28;01mNone\u001b[39;00m:\n\u001b[1;32m    184\u001b[0m         \u001b[38;5;28;01mraise\u001b[39;00m \u001b[38;5;167;01mRuntimeError\u001b[39;00m(\u001b[38;5;124m\"\u001b[39m\u001b[38;5;124m*** YAHOO! FINANCE IS CURRENTLY DOWN! ***\u001b[39m\u001b[38;5;130;01m\\n\u001b[39;00m\u001b[38;5;124m\"\u001b[39m\n\u001b[1;32m    185\u001b[0m                            \u001b[38;5;124m\"\u001b[39m\u001b[38;5;124mOur engineers are working quickly to resolve \u001b[39m\u001b[38;5;124m\"\u001b[39m\n\u001b[1;32m    186\u001b[0m                            \u001b[38;5;124m\"\u001b[39m\u001b[38;5;124mthe issue. Thank you for your patience.\u001b[39m\u001b[38;5;124m\"\u001b[39m)\n",
      "File \u001b[0;32m/Library/Frameworks/Python.framework/Versions/3.12/lib/python3.12/site-packages/yfinance/utils.py:103\u001b[0m, in \u001b[0;36mlog_indent_decorator.<locals>.wrapper\u001b[0;34m(*args, **kwargs)\u001b[0m\n\u001b[1;32m    100\u001b[0m logger\u001b[38;5;241m.\u001b[39mdebug(\u001b[38;5;124mf\u001b[39m\u001b[38;5;124m'\u001b[39m\u001b[38;5;124mEntering \u001b[39m\u001b[38;5;132;01m{\u001b[39;00mfunc\u001b[38;5;241m.\u001b[39m\u001b[38;5;18m__name__\u001b[39m\u001b[38;5;132;01m}\u001b[39;00m\u001b[38;5;124m()\u001b[39m\u001b[38;5;124m'\u001b[39m)\n\u001b[1;32m    102\u001b[0m \u001b[38;5;28;01mwith\u001b[39;00m IndentationContext():\n\u001b[0;32m--> 103\u001b[0m     result \u001b[38;5;241m=\u001b[39m \u001b[43mfunc\u001b[49m\u001b[43m(\u001b[49m\u001b[38;5;241;43m*\u001b[39;49m\u001b[43margs\u001b[49m\u001b[43m,\u001b[49m\u001b[43m \u001b[49m\u001b[38;5;241;43m*\u001b[39;49m\u001b[38;5;241;43m*\u001b[39;49m\u001b[43mkwargs\u001b[49m\u001b[43m)\u001b[49m\n\u001b[1;32m    105\u001b[0m logger\u001b[38;5;241m.\u001b[39mdebug(\u001b[38;5;124mf\u001b[39m\u001b[38;5;124m'\u001b[39m\u001b[38;5;124mExiting \u001b[39m\u001b[38;5;132;01m{\u001b[39;00mfunc\u001b[38;5;241m.\u001b[39m\u001b[38;5;18m__name__\u001b[39m\u001b[38;5;132;01m}\u001b[39;00m\u001b[38;5;124m()\u001b[39m\u001b[38;5;124m'\u001b[39m)\n\u001b[1;32m    106\u001b[0m \u001b[38;5;28;01mreturn\u001b[39;00m result\n",
      "File \u001b[0;32m/Library/Frameworks/Python.framework/Versions/3.12/lib/python3.12/site-packages/yfinance/data.py:364\u001b[0m, in \u001b[0;36mYfData.get\u001b[0;34m(self, url, user_agent_headers, params, timeout)\u001b[0m\n\u001b[1;32m    362\u001b[0m \u001b[38;5;129m@utils\u001b[39m\u001b[38;5;241m.\u001b[39mlog_indent_decorator\n\u001b[1;32m    363\u001b[0m \u001b[38;5;28;01mdef\u001b[39;00m \u001b[38;5;21mget\u001b[39m(\u001b[38;5;28mself\u001b[39m, url, user_agent_headers\u001b[38;5;241m=\u001b[39m\u001b[38;5;28;01mNone\u001b[39;00m, params\u001b[38;5;241m=\u001b[39m\u001b[38;5;28;01mNone\u001b[39;00m, timeout\u001b[38;5;241m=\u001b[39m\u001b[38;5;241m30\u001b[39m):\n\u001b[0;32m--> 364\u001b[0m     \u001b[38;5;28;01mreturn\u001b[39;00m \u001b[38;5;28;43mself\u001b[39;49m\u001b[38;5;241;43m.\u001b[39;49m\u001b[43m_make_request\u001b[49m\u001b[43m(\u001b[49m\u001b[43murl\u001b[49m\u001b[43m,\u001b[49m\u001b[43m \u001b[49m\u001b[43mrequest_method\u001b[49m\u001b[43m \u001b[49m\u001b[38;5;241;43m=\u001b[39;49m\u001b[43m \u001b[49m\u001b[38;5;28;43mself\u001b[39;49m\u001b[38;5;241;43m.\u001b[39;49m\u001b[43m_session\u001b[49m\u001b[38;5;241;43m.\u001b[39;49m\u001b[43mget\u001b[49m\u001b[43m,\u001b[49m\u001b[43m \u001b[49m\u001b[43muser_agent_headers\u001b[49m\u001b[38;5;241;43m=\u001b[39;49m\u001b[43muser_agent_headers\u001b[49m\u001b[43m,\u001b[49m\u001b[43m \u001b[49m\u001b[43mparams\u001b[49m\u001b[38;5;241;43m=\u001b[39;49m\u001b[43mparams\u001b[49m\u001b[43m,\u001b[49m\u001b[43m \u001b[49m\u001b[43mtimeout\u001b[49m\u001b[38;5;241;43m=\u001b[39;49m\u001b[43mtimeout\u001b[49m\u001b[43m)\u001b[49m\n",
      "File \u001b[0;32m/Library/Frameworks/Python.framework/Versions/3.12/lib/python3.12/site-packages/yfinance/utils.py:103\u001b[0m, in \u001b[0;36mlog_indent_decorator.<locals>.wrapper\u001b[0;34m(*args, **kwargs)\u001b[0m\n\u001b[1;32m    100\u001b[0m logger\u001b[38;5;241m.\u001b[39mdebug(\u001b[38;5;124mf\u001b[39m\u001b[38;5;124m'\u001b[39m\u001b[38;5;124mEntering \u001b[39m\u001b[38;5;132;01m{\u001b[39;00mfunc\u001b[38;5;241m.\u001b[39m\u001b[38;5;18m__name__\u001b[39m\u001b[38;5;132;01m}\u001b[39;00m\u001b[38;5;124m()\u001b[39m\u001b[38;5;124m'\u001b[39m)\n\u001b[1;32m    102\u001b[0m \u001b[38;5;28;01mwith\u001b[39;00m IndentationContext():\n\u001b[0;32m--> 103\u001b[0m     result \u001b[38;5;241m=\u001b[39m \u001b[43mfunc\u001b[49m\u001b[43m(\u001b[49m\u001b[38;5;241;43m*\u001b[39;49m\u001b[43margs\u001b[49m\u001b[43m,\u001b[49m\u001b[43m \u001b[49m\u001b[38;5;241;43m*\u001b[39;49m\u001b[38;5;241;43m*\u001b[39;49m\u001b[43mkwargs\u001b[49m\u001b[43m)\u001b[49m\n\u001b[1;32m    105\u001b[0m logger\u001b[38;5;241m.\u001b[39mdebug(\u001b[38;5;124mf\u001b[39m\u001b[38;5;124m'\u001b[39m\u001b[38;5;124mExiting \u001b[39m\u001b[38;5;132;01m{\u001b[39;00mfunc\u001b[38;5;241m.\u001b[39m\u001b[38;5;18m__name__\u001b[39m\u001b[38;5;132;01m}\u001b[39;00m\u001b[38;5;124m()\u001b[39m\u001b[38;5;124m'\u001b[39m)\n\u001b[1;32m    106\u001b[0m \u001b[38;5;28;01mreturn\u001b[39;00m result\n",
      "File \u001b[0;32m/Library/Frameworks/Python.framework/Versions/3.12/lib/python3.12/site-packages/yfinance/data.py:424\u001b[0m, in \u001b[0;36mYfData._make_request\u001b[0;34m(self, url, request_method, user_agent_headers, body, params, timeout)\u001b[0m\n\u001b[1;32m    422\u001b[0m     \u001b[38;5;66;03m# Raise exception if rate limited\u001b[39;00m\n\u001b[1;32m    423\u001b[0m     \u001b[38;5;28;01mif\u001b[39;00m response\u001b[38;5;241m.\u001b[39mstatus_code \u001b[38;5;241m==\u001b[39m \u001b[38;5;241m429\u001b[39m:\n\u001b[0;32m--> 424\u001b[0m         \u001b[38;5;28;01mraise\u001b[39;00m YFRateLimitError()\n\u001b[1;32m    426\u001b[0m \u001b[38;5;28;01mreturn\u001b[39;00m response\n",
      "\u001b[0;31mYFRateLimitError\u001b[0m: Too Many Requests. Rate limited. Try after a while."
     ]
    }
   ],
   "source": [
    "import yfinance as yf\n",
    "\n",
    "ticker = yf.Ticker(\"SBIN.NS\")\n",
    "data = ticker.history(interval=\"15m\", period=\"1d\")\n",
    "print(data[['Open', 'High', 'Low', 'Close', 'Volume']])\n"
   ]
  },
  {
   "cell_type": "markdown",
   "metadata": {},
   "source": []
  }
 ],
 "metadata": {
  "kernelspec": {
   "display_name": "Python 3",
   "language": "python",
   "name": "python3"
  },
  "language_info": {
   "codemirror_mode": {
    "name": "ipython",
    "version": 3
   },
   "file_extension": ".py",
   "mimetype": "text/x-python",
   "name": "python",
   "nbconvert_exporter": "python",
   "pygments_lexer": "ipython3",
   "version": "3.12.4"
  }
 },
 "nbformat": 4,
 "nbformat_minor": 2
}
