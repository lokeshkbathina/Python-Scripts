{
 "cells": [
  {
   "cell_type": "markdown",
   "metadata": {},
   "source": [
    "# Daily filtering on MA 200 & Volume"
   ]
  },
  {
   "cell_type": "code",
   "execution_count": 1,
   "metadata": {},
   "outputs": [],
   "source": [
    "import nselib\n",
    "from nselib import capital_market"
   ]
  },
  {
   "cell_type": "code",
   "execution_count": 2,
   "metadata": {},
   "outputs": [],
   "source": [
    "all_listed_stocks = capital_market.bhav_copy_with_delivery('02-05-2025')\n",
    "stocks = all_listed_stocks[all_listed_stocks['SERIES'] == 'EQ']['SYMBOL'].tolist()"
   ]
  },
  {
   "cell_type": "code",
   "execution_count": 3,
   "metadata": {},
   "outputs": [
    {
     "data": {
      "text/html": [
       "<div>\n",
       "<style scoped>\n",
       "    .dataframe tbody tr th:only-of-type {\n",
       "        vertical-align: middle;\n",
       "    }\n",
       "\n",
       "    .dataframe tbody tr th {\n",
       "        vertical-align: top;\n",
       "    }\n",
       "\n",
       "    .dataframe thead th {\n",
       "        text-align: right;\n",
       "    }\n",
       "</style>\n",
       "<table border=\"1\" class=\"dataframe\">\n",
       "  <thead>\n",
       "    <tr style=\"text-align: right;\">\n",
       "      <th></th>\n",
       "      <th>SYMBOL</th>\n",
       "      <th>O</th>\n",
       "      <th>H</th>\n",
       "      <th>L</th>\n",
       "      <th>C</th>\n",
       "      <th>Volume</th>\n",
       "    </tr>\n",
       "  </thead>\n",
       "  <tbody>\n",
       "    <tr>\n",
       "      <th>993</th>\n",
       "      <td>HDFCBANK</td>\n",
       "      <td>1929.8</td>\n",
       "      <td>1941.9</td>\n",
       "      <td>1920.0</td>\n",
       "      <td>1925.0</td>\n",
       "      <td>11406024</td>\n",
       "    </tr>\n",
       "  </tbody>\n",
       "</table>\n",
       "</div>"
      ],
      "text/plain": [
       "       SYMBOL       O       H       L       C    Volume\n",
       "993  HDFCBANK  1929.8  1941.9  1920.0  1925.0  11406024"
      ]
     },
     "execution_count": 3,
     "metadata": {},
     "output_type": "execute_result"
    }
   ],
   "source": [
    "all_listed_stocks.loc[\n",
    "    all_listed_stocks['SYMBOL'] == 'HDFCBANK', ['SYMBOL', 'OPEN_PRICE', 'HIGH_PRICE', 'LOW_PRICE', 'CLOSE_PRICE','TTL_TRD_QNTY']\n",
    "    ].rename(columns={\n",
    "        'OPEN_PRICE': 'O',\n",
    "        'HIGH_PRICE':'H',\n",
    "        'LOW_PRICE': 'L',\n",
    "        'CLOSE_PRICE': 'C',\n",
    "        'TTL_TRD_QNTY': 'Volume'\n",
    "    })"
   ]
  },
  {
   "cell_type": "code",
   "execution_count": 17,
   "metadata": {},
   "outputs": [
    {
     "name": "stdout",
     "output_type": "stream",
     "text": [
      "Total no. of stocks: 2092\n"
     ]
    },
    {
     "name": "stderr",
     "output_type": "stream",
     "text": [
      "Flitering: 100%|██████████| 2092/2092 [04:45<00:00,  7.32it/s]"
     ]
    },
    {
     "name": "stdout",
     "output_type": "stream",
     "text": [
      "Filtered stocks: 14\n"
     ]
    },
    {
     "name": "stderr",
     "output_type": "stream",
     "text": [
      "\n"
     ]
    },
    {
     "data": {
      "text/plain": [
       "['BSLNIFTY',\n",
       " 'CREDITACC',\n",
       " 'ESILVER',\n",
       " 'FORCEMOT',\n",
       " 'INDUSTOWER',\n",
       " 'JETFREIGHT',\n",
       " 'JMA',\n",
       " 'JSWSTEEL',\n",
       " 'NCLIND',\n",
       " 'PNBHOUSING',\n",
       " 'PRIVISCL',\n",
       " 'SSWL',\n",
       " 'STARCEMENT',\n",
       " 'ZODIACLOTH']"
      ]
     },
     "execution_count": 17,
     "metadata": {},
     "output_type": "execute_result"
    }
   ],
   "source": [
    "import concurrent.futures\n",
    "from tqdm import tqdm\n",
    "import warnings\n",
    "warnings.filterwarnings(\"ignore\")\n",
    "\n",
    "filtered_stocks = []\n",
    "\n",
    "def process_stock(stock):\n",
    "    try:\n",
    "        data = capital_market.price_volume_and_deliverable_position_data(symbol=stock, period='1Y')\n",
    "    except:\n",
    "        # skipping; stock with trades less than 1000\n",
    "        return None\n",
    "\n",
    "    # -- MA 200 -- \n",
    "    MA = 200\n",
    "    close_series = data[::-1]['ClosePrice'][:MA]\n",
    "    if close_series.empty:\n",
    "        return None \n",
    "    \n",
    "    close = close_series.replace({',': ''}, regex=True).astype(float)\n",
    "    if len(close) < MA:\n",
    "        return None\n",
    "\n",
    "    closePrice = close.iloc[0]\n",
    "    MA_200 = close.mean()\n",
    "\n",
    "    # TODO: considering adding some buffer\n",
    "    if closePrice < MA_200:\n",
    "        # NOTE: skipping; stock has been listed for less than 200 days\n",
    "        return None\n",
    "\n",
    "    # -- Volume > 2x 10D Avg --\n",
    "    try:\n",
    "        volume_data = capital_market.deliverable_position_data(stock, period='1M')['TradedQty']\n",
    "        volume = volume_data[::-1].str.replace(',', '', regex=False).astype(int)\n",
    "    except:\n",
    "        return None\n",
    "\n",
    "    current_vol = volume.iloc[0]\n",
    "    # volume needs to above 100k\n",
    "    if current_vol > 100_000:\n",
    "        last_10_days_avg = volume.iloc[1:11].mean()\n",
    "        if current_vol > last_10_days_avg * 2.25:\n",
    "            return stock\n",
    "\n",
    "    return None\n",
    "\n",
    "print(f'Total no. of stocks: {len(stocks)}')\n",
    "\n",
    "with concurrent.futures.ThreadPoolExecutor(max_workers=11) as executor:\n",
    "    futures = [executor.submit(process_stock, stock) for stock in stocks]\n",
    "    for f in tqdm(concurrent.futures.as_completed(futures), total=len(futures), desc='Flitering'):\n",
    "        result = f.result()\n",
    "        if result:\n",
    "            filtered_stocks.append(result)\n",
    "\n",
    "print(f'Filtered stocks: {len(filtered_stocks)}')\n",
    "filtered_stocks"
   ]
  },
  {
   "cell_type": "code",
   "execution_count": 18,
   "metadata": {},
   "outputs": [
    {
     "name": "stdout",
     "output_type": "stream",
     "text": [
      "BSLNIFTY\n",
      "[['BSLNIFTY' 28.4 28.4 27.8 27.98 5127995]]\n",
      "CREDITACC\n",
      "[['CREDITACC' 1095.0 1187.9 1095.0 1162.9 4055645]]\n",
      "ESILVER\n",
      "[['ESILVER' 96.98 96.98 95.5 95.8 414654]]\n",
      "FORCEMOT\n",
      "[['FORCEMOT' 8910.0 10200.0 8892.0 10062.5 810159]]\n",
      "INDUSTOWER\n",
      "[['INDUSTOWER' 394.0 395.45 378.0 379.3 19737832]]\n",
      "JETFREIGHT\n",
      "[['JETFREIGHT' 16.16 16.24 15.69 16.24 390773]]\n",
      "JMA\n",
      "[['JMA' 90.0 99.96 90.0 99.96 158857]]\n",
      "JSWSTEEL\n",
      "[['JSWSTEEL' 1021.2 1037.0 948.3 973.2 7915918]]\n",
      "NCLIND\n",
      "[['NCLIND' 209.95 221.6 209.95 215.23 255496]]\n",
      "PNBHOUSING\n",
      "[['PNBHOUSING' 1071.1 1088.0 1048.3 1052.0 7207887]]\n",
      "PRIVISCL\n",
      "[['PRIVISCL' 1971.0 2054.0 1954.4 2049.3 218543]]\n",
      "SSWL\n",
      "[['SSWL' 203.3 214.73 201.0 213.49 487198]]\n",
      "STARCEMENT\n",
      "[['STARCEMENT' 220.24 224.09 218.05 218.81 899239]]\n",
      "ZODIACLOTH\n",
      "[['ZODIACLOTH' 90.13 108.15 90.13 108.15 360151]]\n"
     ]
    }
   ],
   "source": [
    "for stk in filtered_stocks:\n",
    "    result = all_listed_stocks.loc[\n",
    "        all_listed_stocks['SYMBOL'] == stk,\n",
    "        ['SYMBOL', 'OPEN_PRICE', 'HIGH_PRICE', 'LOW_PRICE', 'CLOSE_PRICE', 'TTL_TRD_QNTY']\n",
    "    ]\n",
    "    \n",
    "    print(stk)\n",
    "    print(result.values)\n",
    "\n"
   ]
  },
  {
   "cell_type": "code",
   "execution_count": null,
   "metadata": {},
   "outputs": [],
   "source": []
  }
 ],
 "metadata": {
  "kernelspec": {
   "display_name": "Python 3",
   "language": "python",
   "name": "python3"
  },
  "language_info": {
   "codemirror_mode": {
    "name": "ipython",
    "version": 3
   },
   "file_extension": ".py",
   "mimetype": "text/x-python",
   "name": "python",
   "nbconvert_exporter": "python",
   "pygments_lexer": "ipython3",
   "version": "3.12.4"
  }
 },
 "nbformat": 4,
 "nbformat_minor": 2
}
