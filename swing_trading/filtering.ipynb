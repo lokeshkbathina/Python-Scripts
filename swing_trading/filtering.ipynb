{
 "cells": [
  {
   "cell_type": "markdown",
   "metadata": {},
   "source": [
    "# Daily Filtering"
   ]
  },
  {
   "cell_type": "code",
   "execution_count": 3,
   "metadata": {},
   "outputs": [],
   "source": [
    "from nselib import capital_market\n",
    "import concurrent.futures\n",
    "from tqdm import tqdm\n",
    "import warnings\n",
    "import numpy as np\n",
    "import pandas as pd\n",
    "from datetime import datetime\n",
    "from nse import nse_self\n",
    "nse = nse_self()\n",
    "warnings.filterwarnings(\"ignore\")"
   ]
  },
  {
   "cell_type": "code",
   "execution_count": 4,
   "metadata": {},
   "outputs": [],
   "source": [
    "today = '04-07-2025'"
   ]
  },
  {
   "cell_type": "code",
   "execution_count": 5,
   "metadata": {},
   "outputs": [],
   "source": [
    "today_stocks_info = nse.get_nse_equities_by_date(today)\n",
    "stocks = today_stocks_info[today_stocks_info['SERIES'] == 'EQ']['SYMBOL'].tolist()"
   ]
  },
  {
   "cell_type": "code",
   "execution_count": 6,
   "metadata": {},
   "outputs": [
    {
     "data": {
      "text/html": [
       "<div>\n",
       "<style scoped>\n",
       "    .dataframe tbody tr th:only-of-type {\n",
       "        vertical-align: middle;\n",
       "    }\n",
       "\n",
       "    .dataframe tbody tr th {\n",
       "        vertical-align: top;\n",
       "    }\n",
       "\n",
       "    .dataframe thead th {\n",
       "        text-align: right;\n",
       "    }\n",
       "</style>\n",
       "<table border=\"1\" class=\"dataframe\">\n",
       "  <thead>\n",
       "    <tr style=\"text-align: right;\">\n",
       "      <th></th>\n",
       "      <th>SYMBOL</th>\n",
       "      <th>O</th>\n",
       "      <th>H</th>\n",
       "      <th>L</th>\n",
       "      <th>C</th>\n",
       "      <th>Volume</th>\n",
       "    </tr>\n",
       "  </thead>\n",
       "  <tbody>\n",
       "    <tr>\n",
       "      <th>2480</th>\n",
       "      <td>SSWL</td>\n",
       "      <td>251.3</td>\n",
       "      <td>253.9</td>\n",
       "      <td>250.35</td>\n",
       "      <td>252.9</td>\n",
       "      <td>164637</td>\n",
       "    </tr>\n",
       "  </tbody>\n",
       "</table>\n",
       "</div>"
      ],
      "text/plain": [
       "     SYMBOL      O      H       L      C  Volume\n",
       "2480   SSWL  251.3  253.9  250.35  252.9  164637"
      ]
     },
     "execution_count": 6,
     "metadata": {},
     "output_type": "execute_result"
    }
   ],
   "source": [
    "today_stocks_info.loc[\n",
    "    today_stocks_info['SYMBOL'] == 'SSWL', ['SYMBOL', 'OPEN_PRICE', 'HIGH_PRICE', 'LOW_PRICE', 'CLOSE_PRICE','TTL_TRD_QNTY']\n",
    "    ].rename(columns={\n",
    "        'OPEN_PRICE': 'O',\n",
    "        'HIGH_PRICE':'H',\n",
    "        'LOW_PRICE': 'L',\n",
    "        'CLOSE_PRICE': 'C',\n",
    "        'TTL_TRD_QNTY': 'Volume'\n",
    "    })"
   ]
  },
  {
   "cell_type": "code",
   "execution_count": 7,
   "metadata": {},
   "outputs": [
    {
     "data": {
      "text/html": [
       "<div>\n",
       "<style scoped>\n",
       "    .dataframe tbody tr th:only-of-type {\n",
       "        vertical-align: middle;\n",
       "    }\n",
       "\n",
       "    .dataframe tbody tr th {\n",
       "        vertical-align: top;\n",
       "    }\n",
       "\n",
       "    .dataframe thead th {\n",
       "        text-align: right;\n",
       "    }\n",
       "</style>\n",
       "<table border=\"1\" class=\"dataframe\">\n",
       "  <thead>\n",
       "    <tr style=\"text-align: right;\">\n",
       "      <th></th>\n",
       "      <th>Symbol</th>\n",
       "      <th>Series</th>\n",
       "      <th>Date</th>\n",
       "      <th>PrevClose</th>\n",
       "      <th>OpenPrice</th>\n",
       "      <th>HighPrice</th>\n",
       "      <th>LowPrice</th>\n",
       "      <th>LastPrice</th>\n",
       "      <th>ClosePrice</th>\n",
       "      <th>AveragePrice</th>\n",
       "      <th>TotalTradedQuantity</th>\n",
       "      <th>TurnoverInRs</th>\n",
       "      <th>No.ofTrades</th>\n",
       "      <th>DeliverableQty</th>\n",
       "      <th>%DlyQttoTradedQty</th>\n",
       "      <th>ï»¿\"Symbol\"</th>\n",
       "    </tr>\n",
       "  </thead>\n",
       "  <tbody>\n",
       "    <tr>\n",
       "      <th>0</th>\n",
       "      <td>NaN</td>\n",
       "      <td>EQ</td>\n",
       "      <td>27-Jun-2025</td>\n",
       "      <td>205.13</td>\n",
       "      <td>206.80</td>\n",
       "      <td>206.80</td>\n",
       "      <td>202.42</td>\n",
       "      <td>204.92</td>\n",
       "      <td>205.81</td>\n",
       "      <td>204.84</td>\n",
       "      <td>1677328</td>\n",
       "      <td>3.435828e+08</td>\n",
       "      <td>34056</td>\n",
       "      <td>1069733</td>\n",
       "      <td>63.78</td>\n",
       "      <td>CUB</td>\n",
       "    </tr>\n",
       "    <tr>\n",
       "      <th>1</th>\n",
       "      <td>NaN</td>\n",
       "      <td>EQ</td>\n",
       "      <td>30-Jun-2025</td>\n",
       "      <td>205.81</td>\n",
       "      <td>208.50</td>\n",
       "      <td>221.00</td>\n",
       "      <td>205.10</td>\n",
       "      <td>217.50</td>\n",
       "      <td>218.71</td>\n",
       "      <td>214.77</td>\n",
       "      <td>7214554</td>\n",
       "      <td>1.549471e+09</td>\n",
       "      <td>76077</td>\n",
       "      <td>3596754</td>\n",
       "      <td>49.85</td>\n",
       "      <td>CUB</td>\n",
       "    </tr>\n",
       "    <tr>\n",
       "      <th>2</th>\n",
       "      <td>NaN</td>\n",
       "      <td>EQ</td>\n",
       "      <td>01-Jul-2025</td>\n",
       "      <td>218.71</td>\n",
       "      <td>215.00</td>\n",
       "      <td>232.36</td>\n",
       "      <td>214.00</td>\n",
       "      <td>228.90</td>\n",
       "      <td>230.51</td>\n",
       "      <td>224.85</td>\n",
       "      <td>8373774</td>\n",
       "      <td>1.882872e+09</td>\n",
       "      <td>113658</td>\n",
       "      <td>3597799</td>\n",
       "      <td>42.97</td>\n",
       "      <td>CUB</td>\n",
       "    </tr>\n",
       "    <tr>\n",
       "      <th>3</th>\n",
       "      <td>NaN</td>\n",
       "      <td>EQ</td>\n",
       "      <td>02-Jul-2025</td>\n",
       "      <td>230.51</td>\n",
       "      <td>226.10</td>\n",
       "      <td>232.55</td>\n",
       "      <td>219.50</td>\n",
       "      <td>223.30</td>\n",
       "      <td>221.44</td>\n",
       "      <td>226.00</td>\n",
       "      <td>6649580</td>\n",
       "      <td>1.502823e+09</td>\n",
       "      <td>80458</td>\n",
       "      <td>1970256</td>\n",
       "      <td>29.63</td>\n",
       "      <td>CUB</td>\n",
       "    </tr>\n",
       "    <tr>\n",
       "      <th>4</th>\n",
       "      <td>NaN</td>\n",
       "      <td>EQ</td>\n",
       "      <td>03-Jul-2025</td>\n",
       "      <td>221.44</td>\n",
       "      <td>222.00</td>\n",
       "      <td>223.48</td>\n",
       "      <td>216.10</td>\n",
       "      <td>216.53</td>\n",
       "      <td>216.89</td>\n",
       "      <td>218.78</td>\n",
       "      <td>2845297</td>\n",
       "      <td>6.225026e+08</td>\n",
       "      <td>44824</td>\n",
       "      <td>1407505</td>\n",
       "      <td>49.47</td>\n",
       "      <td>CUB</td>\n",
       "    </tr>\n",
       "    <tr>\n",
       "      <th>5</th>\n",
       "      <td>NaN</td>\n",
       "      <td>EQ</td>\n",
       "      <td>04-Jul-2025</td>\n",
       "      <td>216.89</td>\n",
       "      <td>216.88</td>\n",
       "      <td>220.99</td>\n",
       "      <td>211.90</td>\n",
       "      <td>216.82</td>\n",
       "      <td>217.27</td>\n",
       "      <td>216.36</td>\n",
       "      <td>2116720</td>\n",
       "      <td>4.579670e+08</td>\n",
       "      <td>37531</td>\n",
       "      <td>868656</td>\n",
       "      <td>41.04</td>\n",
       "      <td>CUB</td>\n",
       "    </tr>\n",
       "  </tbody>\n",
       "</table>\n",
       "</div>"
      ],
      "text/plain": [
       "  Symbol Series         Date  PrevClose  OpenPrice  HighPrice  LowPrice  \\\n",
       "0    NaN     EQ  27-Jun-2025     205.13     206.80     206.80    202.42   \n",
       "1    NaN     EQ  30-Jun-2025     205.81     208.50     221.00    205.10   \n",
       "2    NaN     EQ  01-Jul-2025     218.71     215.00     232.36    214.00   \n",
       "3    NaN     EQ  02-Jul-2025     230.51     226.10     232.55    219.50   \n",
       "4    NaN     EQ  03-Jul-2025     221.44     222.00     223.48    216.10   \n",
       "5    NaN     EQ  04-Jul-2025     216.89     216.88     220.99    211.90   \n",
       "\n",
       "   LastPrice  ClosePrice  AveragePrice  TotalTradedQuantity  TurnoverInRs  \\\n",
       "0     204.92      205.81        204.84              1677328  3.435828e+08   \n",
       "1     217.50      218.71        214.77              7214554  1.549471e+09   \n",
       "2     228.90      230.51        224.85              8373774  1.882872e+09   \n",
       "3     223.30      221.44        226.00              6649580  1.502823e+09   \n",
       "4     216.53      216.89        218.78              2845297  6.225026e+08   \n",
       "5     216.82      217.27        216.36              2116720  4.579670e+08   \n",
       "\n",
       "   No.ofTrades  DeliverableQty  %DlyQttoTradedQty ï»¿\"Symbol\"  \n",
       "0        34056         1069733              63.78         CUB  \n",
       "1        76077         3596754              49.85         CUB  \n",
       "2       113658         3597799              42.97         CUB  \n",
       "3        80458         1970256              29.63         CUB  \n",
       "4        44824         1407505              49.47         CUB  \n",
       "5        37531          868656              41.04         CUB  "
      ]
     },
     "execution_count": 7,
     "metadata": {},
     "output_type": "execute_result"
    }
   ],
   "source": [
    "nse.get_nse_stock_by_duration('CUB', '1W')"
   ]
  },
  {
   "cell_type": "markdown",
   "metadata": {},
   "source": [
    "# level 1 - MA 200 & Vol 2.25x"
   ]
  },
  {
   "cell_type": "code",
   "execution_count": 8,
   "metadata": {},
   "outputs": [
    {
     "name": "stdout",
     "output_type": "stream",
     "text": [
      "Total no. of stocks: 2038\n",
      "\n"
     ]
    },
    {
     "name": "stderr",
     "output_type": "stream",
     "text": [
      "Flitering: 100%|██████████| 2038/2038 [12:23<00:00,  2.74it/s]"
     ]
    },
    {
     "name": "stdout",
     "output_type": "stream",
     "text": [
      "Filtered stocks: 64\n"
     ]
    },
    {
     "name": "stderr",
     "output_type": "stream",
     "text": [
      "\n"
     ]
    }
   ],
   "source": [
    "filtered_stocks_1 = []\n",
    "\n",
    "def process_stock(stock):\n",
    "    try:\n",
    "        data = nse.get_nse_stock_by_duration(symbol=stock, period='1Y')\n",
    "    except:\n",
    "        # skipping; stock with trades less than 1000 TDs\n",
    "        return None\n",
    "\n",
    "\n",
    "    # -- MA 200 -- \n",
    "    MA = 200\n",
    "    close_series = data[::-1]['ClosePrice'][:MA]\n",
    "    if close_series.empty or len(close_series.dropna()) == 0:\n",
    "        return None \n",
    "    \n",
    "    close = close_series.replace({',': ''}, regex=True).astype(float)\n",
    "    if len(close) < MA:\n",
    "        return None\n",
    "\n",
    "    closePrice = close.iloc[0]\n",
    "    MA_200 = close.mean()\n",
    "\n",
    "    # TODO: considering adding some buffer\n",
    "    if closePrice < MA_200:\n",
    "        # NOTE: skipping; stock has been listed for less than 200 days\n",
    "        return None\n",
    "\n",
    "\n",
    "    # -- Volume > 2.25x 10D Avg --\n",
    "    try:\n",
    "        volume_data = capital_market.deliverable_position_data(stock, period='1M')['TradedQty']\n",
    "        volume = volume_data[::-1].str.replace(',', '', regex=False).astype(int)\n",
    "    except:\n",
    "        return None\n",
    "\n",
    "    current_vol = volume.iloc[0]\n",
    "    # volume needs to above 100k\n",
    "    if current_vol > 100_000:\n",
    "        last_10_days_avg = volume.iloc[1:11].mean()\n",
    "        if current_vol > last_10_days_avg * 2.25:\n",
    "            return stock\n",
    "\n",
    "    return None\n",
    "\n",
    "print(f'Total no. of stocks: {len(stocks)}')\n",
    "print()\n",
    "\n",
    "with concurrent.futures.ThreadPoolExecutor(max_workers=11) as executor:\n",
    "    futures = [executor.submit(process_stock, stock) for stock in stocks]\n",
    "    for f in tqdm(concurrent.futures.as_completed(futures), total=len(futures), desc='Flitering'):\n",
    "        result = f.result()\n",
    "        if result:\n",
    "            filtered_stocks_1.append(result)\n",
    "\n",
    "print(f'Filtered stocks: {len(filtered_stocks_1)}')"
   ]
  },
  {
   "cell_type": "markdown",
   "metadata": {},
   "source": [
    "# level 2 - excluding ETFs"
   ]
  },
  {
   "cell_type": "code",
   "execution_count": 9,
   "metadata": {},
   "outputs": [
    {
     "name": "stdout",
     "output_type": "stream",
     "text": [
      "Excluded stocks: ['ALPL30IETF', 'JUNIORBEES', 'LIQUIDBEES', 'LIQUIDETF', 'LIQUIDBETF']\n"
     ]
    },
    {
     "data": {
      "text/plain": [
       "59"
      ]
     },
     "execution_count": 9,
     "metadata": {},
     "output_type": "execute_result"
    }
   ],
   "source": [
    "exclusions = [\"ETF\", \"GOLD\", \"SILVER\", \"BEES\", \"NIFTY\"]\n",
    "excluded_stocks = []\n",
    "filtered_stocks_2 = []\n",
    "\n",
    "for stk in filtered_stocks_1:\n",
    "    if any(excl in stk for excl in exclusions):\n",
    "        excluded_stocks.append(stk)\n",
    "    else:\n",
    "        filtered_stocks_2.append(stk)\n",
    "\n",
    "print(f\"Excluded stocks: {excluded_stocks}\")\n",
    "len(filtered_stocks_2)"
   ]
  },
  {
   "cell_type": "markdown",
   "metadata": {},
   "source": [
    "# level 3 - higher opens & higher closes"
   ]
  },
  {
   "cell_type": "code",
   "execution_count": 10,
   "metadata": {},
   "outputs": [
    {
     "name": "stderr",
     "output_type": "stream",
     "text": [
      "Price Check: 100%|██████████| 59/59 [00:03<00:00, 18.61it/s]"
     ]
    },
    {
     "name": "stdout",
     "output_type": "stream",
     "text": [
      "Filtered stocks: 32\n",
      "['ACI', 'ANDHRAPAP', 'ASALCBR', 'BODALCHEM', 'BOSCHLTD', 'CARERATING', 'CHENNPETRO', 'CHOICEIN', 'CREDITACC', 'DEVYANI', 'EIMCOELECO', 'ENGINERSIN', 'HCG', 'JGCHEM', 'MANAKALUCO', 'MRPL', 'NATHBIOGEN', 'PARSVNATH', 'PRIMESECU', 'RESPONIND', 'RUCHIRA', 'SAKSOFT', 'SAPPHIRE', 'SHARDACROP', 'SINDHUTRAD', 'SMLISUZU', 'SURYALAXMI', 'TNPL', 'UNIPARTS', 'VASWANI', 'WSTCSTPAPR', 'XPROINDIA']\n"
     ]
    },
    {
     "name": "stderr",
     "output_type": "stream",
     "text": [
      "\n"
     ]
    }
   ],
   "source": [
    "filtered_stocks_3 = []\n",
    "\n",
    "def check_price_movement(stock):\n",
    "    try:\n",
    "        # get lastest 7 days of data\n",
    "        data = nse.get_nse_stock_by_duration(symbol=stock, period='1W')\n",
    "        # latest\n",
    "        data = data[::-1]  \n",
    "        close_prices = data['ClosePrice'].replace({',': ''}, regex=True).astype(float)\n",
    "        open_prices = data['OpenPrice'].replace({',': ''}, regex=True).astype(float)\n",
    "\n",
    "        if len(close_prices) >= 2 and len(open_prices) >= 1:\n",
    "            today_close = close_prices.iloc[0]\n",
    "            prev_close = close_prices.iloc[1]\n",
    "            today_open = open_prices.iloc[0]\n",
    "            prev_open = open_prices.iloc[1]\n",
    "\n",
    "            # Condition: today's close > previous close AND today's close > open\n",
    "            if today_close > prev_close and today_close > today_open and today_open > prev_open:\n",
    "                return stock\n",
    "    except Exception as e:\n",
    "        return None\n",
    "    return None\n",
    "\n",
    "\n",
    "with concurrent.futures.ThreadPoolExecutor(max_workers=8) as executor:\n",
    "    futures = [executor.submit(check_price_movement, stock) for stock in filtered_stocks_2]\n",
    "    for f in tqdm(concurrent.futures.as_completed(futures), total=len(futures), desc='Price Check'):\n",
    "        result = f.result()\n",
    "        if result:\n",
    "            filtered_stocks_3.append(result)\n",
    "\n",
    "# sorting alphabetically\n",
    "filtered_stocks_3.sort()\n",
    "print(f\"Filtered stocks: {len(filtered_stocks_3)}\")\n",
    "print(filtered_stocks_3)"
   ]
  },
  {
   "cell_type": "markdown",
   "metadata": {},
   "source": [
    "# level 4 - previous 10 days's daily vol > 100k"
   ]
  },
  {
   "cell_type": "code",
   "execution_count": 11,
   "metadata": {},
   "outputs": [
    {
     "name": "stderr",
     "output_type": "stream",
     "text": [
      "Volume Consistency: 100%|██████████| 32/32 [00:02<00:00, 12.10it/s]"
     ]
    },
    {
     "name": "stdout",
     "output_type": "stream",
     "text": [
      "Filtered Stocks_4: 13\n",
      "['ANDHRAPAP', 'BODALCHEM', 'CHENNPETRO', 'CHOICEIN', 'CREDITACC', 'DEVYANI', 'ENGINERSIN', 'HCG', 'MRPL', 'PARSVNATH', 'SAKSOFT', 'SHARDACROP', 'SINDHUTRAD']\n"
     ]
    },
    {
     "name": "stderr",
     "output_type": "stream",
     "text": [
      "\n"
     ]
    }
   ],
   "source": [
    "filtered_stocks_4 = []\n",
    "\n",
    "def check_volume_consistency(stock):\n",
    "    try:\n",
    "        # Get last 15 days of data (to ensure we have at least 10 trading days)\n",
    "        volume_data = nse.get_nse_stock_by_duration(symbol=stock, period='1M')['TotalTradedQuantity']\n",
    "        volume = volume_data[::-1]\n",
    "\n",
    "        # Take last 10 trading days\n",
    "        last_10_vols = volume.iloc[:10]\n",
    "\n",
    "        # Check if all volumes > 100k\n",
    "        if len(last_10_vols) < 10:\n",
    "            return None\n",
    "\n",
    "        if all(v > 100_000 for v in last_10_vols):\n",
    "            return stock\n",
    "    except:\n",
    "        return None\n",
    "    return None\n",
    "\n",
    "\n",
    "with concurrent.futures.ThreadPoolExecutor(max_workers=8) as executor:\n",
    "    futures = [executor.submit(check_volume_consistency, stock) for stock in filtered_stocks_3]\n",
    "    for f in tqdm(concurrent.futures.as_completed(futures), total=len(futures), desc='Volume Consistency'):\n",
    "        result = f.result()\n",
    "        if result:\n",
    "            filtered_stocks_4.append(result)\n",
    "\n",
    "# Sort alphabetically\n",
    "filtered_stocks_4.sort()\n",
    "print(f\"Filtered Stocks_4: {len(filtered_stocks_4)}\")\n",
    "print(filtered_stocks_4)"
   ]
  },
  {
   "cell_type": "markdown",
   "metadata": {},
   "source": [
    "# -- WIP -- (to be level 5)"
   ]
  },
  {
   "cell_type": "markdown",
   "metadata": {},
   "source": [
    "# final"
   ]
  },
  {
   "cell_type": "code",
   "execution_count": 12,
   "metadata": {},
   "outputs": [
    {
     "data": {
      "text/plain": [
       "array(['ANDHRAPAP', 'BODALCHEM', 'CHENNPETRO', 'CHOICEIN', 'CREDITACC',\n",
       "       'DEVYANI', 'ENGINERSIN', 'HCG', 'MRPL', 'PARSVNATH', 'SAKSOFT',\n",
       "       'SHARDACROP', 'SINDHUTRAD'], dtype='<U10')"
      ]
     },
     "execution_count": 12,
     "metadata": {},
     "output_type": "execute_result"
    }
   ],
   "source": [
    "filtered_stocks_4.sort()\n",
    "np.array(filtered_stocks_4)"
   ]
  },
  {
   "cell_type": "markdown",
   "metadata": {},
   "source": [
    "# prompt - TODO: RSI & MACD"
   ]
  },
  {
   "cell_type": "code",
   "execution_count": 27,
   "metadata": {},
   "outputs": [],
   "source": [
    "\n",
    "    hist_data = nse.get_nse_stock_by_duration(symbol='ANDHRAPAP', period='1Y')[::-1]\n",
    "    closes = hist_data['ClosePrice'].replace({',': ''}, regex=True).astype(float)\n",
    "    highs = hist_data['HighPrice'].replace({',': ''}, regex=True).astype(float)"
   ]
  },
  {
   "cell_type": "code",
   "execution_count": 29,
   "metadata": {},
   "outputs": [
    {
     "data": {
      "text/plain": [
       "248     90.00\n",
       "247     84.51\n",
       "246     84.60\n",
       "245     83.84\n",
       "244     84.55\n",
       "        ...  \n",
       "4      591.00\n",
       "3      601.45\n",
       "2      611.60\n",
       "1      615.65\n",
       "0      621.00\n",
       "Name: HighPrice, Length: 249, dtype: float64"
      ]
     },
     "execution_count": 29,
     "metadata": {},
     "output_type": "execute_result"
    }
   ],
   "source": [
    "highs"
   ]
  },
  {
   "cell_type": "code",
   "execution_count": 22,
   "metadata": {},
   "outputs": [],
   "source": [
    "def generate_prompt(stk_symbol, today_stocks_info):\n",
    "    ohlc = today_stocks_info.loc[today_stocks_info['SYMBOL'] == stk_symbol,\n",
    "                                ['SYMBOL', 'OPEN_PRICE', 'HIGH_PRICE', 'LOW_PRICE', 'CLOSE_PRICE']\n",
    "    ].values.tolist()[0][1:]\n",
    "\n",
    "    hist_data = nse.get_nse_stock_by_duration(symbol=stk_symbol, period='1Y')[::-1]\n",
    "    closes = hist_data['ClosePrice'].replace({',': ''}, regex=True).astype(float)\n",
    "    highs = hist_data['HighPrice'].replace({',': ''}, regex=True).astype(float)\n",
    "\n",
    "    ma20 = closes.iloc[:20].mean()\n",
    "    ma50 = closes.iloc[:50].mean()\n",
    "    ma200 = closes.iloc[:200].mean()\n",
    "    today_close = closes.iloc[0]\n",
    "    ma20_gap = round(((today_close - ma20) / ma20) * 100, 2)\n",
    "    ma50_gap = round(((today_close - ma50) / ma50) * 100, 2)\n",
    "    ma200_gap = round(((today_close - ma200) / ma200) * 100, 2)\n",
    "\n",
    "    yesterday_close = closes.iloc[1]\n",
    "    today_close = closes.iloc[0]\n",
    "    change_pct = ((today_close - yesterday_close) / yesterday_close) * 100\n",
    "\n",
    "    high_52 = highs.max()\n",
    "    high_gap = round(((high_52 - today_close) / high_52) * 100, 2)\n",
    "\n",
    "\n",
    "    return f\"\"\"\n",
    "        I'm evaluating **NSE:{stk_symbol}** for a potential **swing buy position**.  \n",
    "        Please assess this setup based on my strategy context and your expert technical insights.\n",
    "        Kindly provide a **combined score (1 to 10)** reflecting your preference for a buy at this point also considering the below details.\n",
    "        \n",
    "\n",
    "        📊 Stock Details:  \n",
    "        - Market closed today's 1D chart with:  \n",
    "        **Open**: {ohlc[0]} | **High**: {ohlc[1]} | **Low**: {ohlc[2]} | **Close**: {ohlc[3]} | **Change**: {change_pct:+.2f}%\n",
    "        - **20 MA**: {ma20:.2f} (Gap: {ma20_gap:+.2f}%)  \n",
    "        - **50 MA**: {ma50:.2f} (Gap: {ma50_gap:+.2f}%)  \n",
    "        - **200 MA**: {ma200:.2f} (Gap: {ma200_gap:+.2f}%)  \n",
    "        - **RSI**: to_be_filled\n",
    "        - **MACD** to_be_filled  \n",
    "        - Gap from 52-week high (%): {high_52} {high_gap:+.2f}%\n",
    "        - Volume is **2.25x or more** above the average of the last 10 trading days.\n",
    "        - Both **today's** and **yesterday's** candles show **higher opens and higher closes**.\n",
    "\n",
    "\n",
    "        📌 **Additional Info (Please fill):**  \n",
    "        - Earnings in: (Date) | (Gap in weeks)  \n",
    "        - Sector outlook:  \n",
    "        - Sector strength: Good / Bad  \n",
    "        - News related to this stock: Good / Bad  \n",
    "         \n",
    "        - Institutional investor interest:  \n",
    "        - Analysts' research:  \n",
    "        - Latest earnings: Miss / Beat estimates?\n",
    "\n",
    "        ---\n",
    "\n",
    "        🧾 **Summary**  \n",
    "        ✅ Good:  \n",
    "        ⚠️ Neutral / Caution:  \n",
    "        ❌ Bad:\n",
    "\n",
    "        📍 **Ideal Entry Zone** (Now or wait):  \n",
    "        🎯 **Final Verdict (Score out of 10)**:  \n",
    "        \"\"\"\n",
    "    "
   ]
  },
  {
   "cell_type": "code",
   "execution_count": 23,
   "metadata": {},
   "outputs": [
    {
     "data": {
      "text/plain": [
       "'ANDHRAPAP'"
      ]
     },
     "execution_count": 23,
     "metadata": {},
     "output_type": "execute_result"
    }
   ],
   "source": [
    "filtered_stocks_4[0]"
   ]
  },
  {
   "cell_type": "code",
   "execution_count": 24,
   "metadata": {},
   "outputs": [
    {
     "name": "stdout",
     "output_type": "stream",
     "text": [
      "\n",
      "        I'm evaluating **NSE:ANDHRAPAP** for a potential **swing buy position**.  \n",
      "        Please assess this setup based on my strategy context and your expert technical insights.\n",
      "        Kindly provide a **combined score (1 to 10)** reflecting your preference for a buy at this point also considering the below details.\n",
      "        \n",
      "\n",
      "        📊 Stock Details:  \n",
      "        - Market closed today's 1D chart with:  \n",
      "        **Open**: 84.0 | **High**: 90.0 | **Low**: 83.3 | **Close**: 88.18 | **Change**: +4.98%\n",
      "        - **20 MA**: 80.92 (Gap: +8.97%)  \n",
      "        - **50 MA**: 78.23 (Gap: +12.72%)  \n",
      "        - **200 MA**: 86.79 (Gap: +1.60%)  \n",
      "        - **RSI**: to_be_filled\n",
      "        - **MACD** to_be_filled  \n",
      "        - Gap from 52-week high (%): 621.0 +85.80%\n",
      "        - Volume is **2.25x or more** above the average of the last 10 trading days.\n",
      "        - Both **today's** and **yesterday's** candles show **higher opens and higher closes**.\n",
      "\n",
      "\n",
      "        📌 **Additional Info (Please fill):**  \n",
      "        - Earnings in: (Date) | (Gap in weeks)  \n",
      "        - Sector outlook:  \n",
      "        - Sector strength: Good / Bad  \n",
      "        - News related to this stock: Good / Bad  \n",
      "         \n",
      "        - Institutional investor interest:  \n",
      "        - Analysts' research:  \n",
      "        - Latest earnings: Miss / Beat estimates?\n",
      "\n",
      "        ---\n",
      "\n",
      "        🧾 **Summary**  \n",
      "        ✅ Good:  \n",
      "        ⚠️ Neutral / Caution:  \n",
      "        ❌ Bad:\n",
      "\n",
      "        📍 **Ideal Entry Zone** (Now or wait):  \n",
      "        🎯 **Final Verdict (Score out of 10)**:  \n",
      "        \n"
     ]
    }
   ],
   "source": [
    "a = generate_prompt(filtered_stocks_4[0], today_stocks_info)\n",
    "print(a)"
   ]
  },
  {
   "cell_type": "code",
   "execution_count": null,
   "metadata": {},
   "outputs": [],
   "source": []
  },
  {
   "cell_type": "code",
   "execution_count": null,
   "metadata": {},
   "outputs": [],
   "source": []
  },
  {
   "cell_type": "markdown",
   "metadata": {},
   "source": [
    "# final_stocks prices"
   ]
  },
  {
   "cell_type": "code",
   "execution_count": 17,
   "metadata": {},
   "outputs": [
    {
     "name": "stdout",
     "output_type": "stream",
     "text": [
      "[['AFFLE', 1979.0, 2080.0, 1975.1, 2044.8]]\n",
      "\n",
      "[['ASTERDM', 595.5, 675.0, 595.45, 650.05]]\n",
      "\n",
      "[['BLKASHYAP', 66.1, 73.45, 65.88, 70.65]]\n",
      "\n",
      "[['KRBL', 380.0, 398.0, 377.55, 396.8]]\n",
      "\n",
      "[['LATENTVIEW', 425.0, 450.0, 420.0, 446.7]]\n",
      "\n",
      "[['MRPL', 144.3, 151.4, 144.1, 147.62]]\n",
      "\n",
      "[['MSUMI', 59.69, 61.75, 59.5, 60.38]]\n",
      "\n",
      "[['SAKSOFT', 201.75, 235.0, 201.75, 225.87]]\n",
      "\n",
      "[['SHARDACROP', 848.9, 921.9, 840.6, 886.9]]\n",
      "\n",
      "[['UDAICEMENT', 34.6, 35.6, 34.43, 34.83]]\n",
      "\n"
     ]
    }
   ],
   "source": [
    "for stk in filtered_stocks_4:\n",
    "    result = today_stocks_info.loc[\n",
    "        today_stocks_info['SYMBOL'] == stk,\n",
    "        ['SYMBOL', 'OPEN_PRICE', 'HIGH_PRICE', 'LOW_PRICE', 'CLOSE_PRICE']\n",
    "    ]\n",
    "    \n",
    "    print(result.values.tolist())\n",
    "    print()"
   ]
  },
  {
   "cell_type": "markdown",
   "metadata": {},
   "source": [
    "# 9.15 to 9.30"
   ]
  },
  {
   "cell_type": "code",
   "execution_count": null,
   "metadata": {},
   "outputs": [],
   "source": [
    "import requests\n",
    "import time\n",
    "from datetime import datetime"
   ]
  },
  {
   "cell_type": "code",
   "execution_count": null,
   "metadata": {},
   "outputs": [],
   "source": [
    "api_key = '2dabbfcdf93040ba99894559f7a27ac5'\n",
    "symbol = 'RELIANCE.NSE'\n",
    "\n",
    "base_url = 'https://api.twelvedata.com/time_series'\n",
    "\n",
    "# time window: 9.15 to 9.30\n",
    "start_hour = 9\n",
    "start_minute = 15\n",
    "end_minute = 30\n",
    "\n",
    "while True:\n",
    "    # current time\n",
    "    now = datetime.now()\n",
    "    \n",
    "    # if inside the window\n",
    "    if now.hour == start_hour and start_minute <= now.minute <= end_minute:\n",
    "        params = {\n",
    "            'symbol': symbol,\n",
    "            'interval': '5min',\n",
    "            'outputsize': 1,\n",
    "            'apikey': api_key\n",
    "        }\n",
    "        response = requests.get(base_url, params=params)\n",
    "        data = response.json()\n",
    "\n",
    "        if 'values' in data:\n",
    "            last_candle = data['values'][0]\n",
    "            print(f\"{last_candle['datetime']} - O:{last_candle['open']} H:{last_candle['high']} L:{last_candle['low']} C:{last_candle['close']}\")\n",
    "        else:\n",
    "            print(\"Error or limit reached:\", data)\n",
    "\n",
    "        time.sleep(300)  # Wait 5 mins\n",
    "\n",
    "    elif now.minute > end_minute:\n",
    "        print(\"Finished 9:15–9:30 fetching.\")\n",
    "        break\n",
    "    else:\n",
    "        time.sleep(10)  # Before 9:15, check every 10 sec\n"
   ]
  }
 ],
 "metadata": {
  "kernelspec": {
   "display_name": "Python 3",
   "language": "python",
   "name": "python3"
  },
  "language_info": {
   "codemirror_mode": {
    "name": "ipython",
    "version": 3
   },
   "file_extension": ".py",
   "mimetype": "text/x-python",
   "name": "python",
   "nbconvert_exporter": "python",
   "pygments_lexer": "ipython3",
   "version": "3.12.4"
  }
 },
 "nbformat": 4,
 "nbformat_minor": 2
}
